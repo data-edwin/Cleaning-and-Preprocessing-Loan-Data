{
 "cells": [
  {
   "cell_type": "markdown",
   "id": "2196f4ce",
   "metadata": {},
   "source": [
    "# Preprocessing a Loan Dataset"
   ]
  },
  {
   "cell_type": "markdown",
   "id": "640e5ac4",
   "metadata": {},
   "source": [
    "### Importing the Packages"
   ]
  },
  {
   "cell_type": "code",
   "execution_count": 1,
   "id": "2d9ac6f5",
   "metadata": {},
   "outputs": [],
   "source": [
    "import numpy as np"
   ]
  },
  {
   "cell_type": "code",
   "execution_count": 2,
   "id": "4ffcb643",
   "metadata": {},
   "outputs": [],
   "source": [
    "np.set_printoptions(suppress = True, linewidth = 100, precision = 2)\n",
    "\n",
    "#The .set_printoptions will help improve the way we see the output\n",
    "#suppress will stop numpy from using scientific notations to express numbers.\n",
    "#linewidth will fit the single line of output to 100\n",
    "#Precision will make it display only the first 2 digits after the decimal point\n"
   ]
  },
  {
   "cell_type": "markdown",
   "id": "a01b0ea5",
   "metadata": {},
   "source": [
    "### Importing the Data"
   ]
  },
  {
   "cell_type": "code",
   "execution_count": 3,
   "id": "20ee69cc",
   "metadata": {},
   "outputs": [],
   "source": [
    "#.loadtxt will return an error message if the dataset is incomplete.\n",
    "\n",
    "# raw_data_np = np.loadtxt(\"loan-data.csv\", delimiter = ';')\n",
    "# raw_data_np\n",
    "\n",
    "#The above code uncommented display that the function failed to convert strings into floats"
   ]
  },
  {
   "cell_type": "code",
   "execution_count": 4,
   "id": "57980744",
   "metadata": {},
   "outputs": [
    {
     "data": {
      "text/plain": [
       "array([[        nan,         nan,         nan, ...,         nan,         nan,         nan],\n",
       "       [48010226.  ,         nan,    35000.  , ...,         nan,         nan,     9452.96],\n",
       "       [57693261.  ,         nan,    30000.  , ...,         nan,         nan,     4679.7 ],\n",
       "       ...,\n",
       "       [50415990.  ,         nan,    10000.  , ...,         nan,         nan,     2185.64],\n",
       "       [46154151.  ,         nan,         nan, ...,         nan,         nan,     3199.4 ],\n",
       "       [66055249.  ,         nan,    10000.  , ...,         nan,         nan,      301.9 ]])"
      ]
     },
     "execution_count": 4,
     "metadata": {},
     "output_type": "execute_result"
    }
   ],
   "source": [
    "raw_data_np = np.genfromtxt(\"loan-data.csv\", delimiter = ';')\n",
    "raw_data_np"
   ]
  },
  {
   "cell_type": "code",
   "execution_count": 5,
   "id": "5606e004",
   "metadata": {},
   "outputs": [
    {
     "data": {
      "text/plain": [
       "array([[48010226.  ,         nan,    35000.  , ...,         nan,         nan,     9452.96],\n",
       "       [57693261.  ,         nan,    30000.  , ...,         nan,         nan,     4679.7 ],\n",
       "       [59432726.  ,         nan,    15000.  , ...,         nan,         nan,     1969.83],\n",
       "       ...,\n",
       "       [50415990.  ,         nan,    10000.  , ...,         nan,         nan,     2185.64],\n",
       "       [46154151.  ,         nan,         nan, ...,         nan,         nan,     3199.4 ],\n",
       "       [66055249.  ,         nan,    10000.  , ...,         nan,         nan,      301.9 ]])"
      ]
     },
     "execution_count": 5,
     "metadata": {},
     "output_type": "execute_result"
    }
   ],
   "source": [
    "raw_data_np = np.genfromtxt(\"loan-data.csv\", delimiter = ';', skip_header = 1, autostrip = True)\n",
    "raw_data_np\n",
    "\n",
    "#skip_header will remove the 'nan' top header.\n",
    "#autostrip will remove the excess white space"
   ]
  },
  {
   "cell_type": "markdown",
   "id": "4605e9a5",
   "metadata": {},
   "source": [
    "### Checking for Incomplete Data"
   ]
  },
  {
   "cell_type": "code",
   "execution_count": 6,
   "id": "0f859883",
   "metadata": {},
   "outputs": [
    {
     "data": {
      "text/plain": [
       "88005"
      ]
     },
     "execution_count": 6,
     "metadata": {},
     "output_type": "execute_result"
    }
   ],
   "source": [
    "np.isnan(raw_data_np).sum()"
   ]
  },
  {
   "cell_type": "code",
   "execution_count": 7,
   "id": "89dc4efe",
   "metadata": {},
   "outputs": [
    {
     "name": "stderr",
     "output_type": "stream",
     "text": [
      "C:\\Users\\USER\\AppData\\Local\\Temp\\ipykernel_15708\\2279996894.py:2: RuntimeWarning: Mean of empty slice\n",
      "  temporary_mean = np.nanmean(raw_data_np, axis = 0)\n"
     ]
    }
   ],
   "source": [
    "temporary_fill = np.nanmax(raw_data_np) + 1\n",
    "temporary_mean = np.nanmean(raw_data_np, axis = 0)\n",
    "\n",
    "#temporary_fill will be greater than any value in the dataset. It will serve as a filler for all the missing entries of the dataset.\n",
    "#temporary_mean will hold the means for every column. The warning on line 2 shows thet there must be entire columns full of only 'nans'.\n",
    "\n",
    "#Although, the default for .genfromtxt is floats so a column of only strings is automatically filled with 'nans' (and considered \"empty\"). This means that the so called empty columns may infact contain important text data.\n"
   ]
  },
  {
   "cell_type": "code",
   "execution_count": 8,
   "id": "9adabf6b",
   "metadata": {},
   "outputs": [
    {
     "data": {
      "text/plain": [
       "array([54015809.19,         nan,    15273.46,         nan,    15311.04,         nan,       16.62,\n",
       "            440.92,         nan,         nan,         nan,         nan,         nan,     3143.85])"
      ]
     },
     "execution_count": 8,
     "metadata": {},
     "output_type": "execute_result"
    }
   ],
   "source": [
    "#To determine how many columns consist entirely of text value.\n",
    "#8 columns show nan as their mean which means they only store strings.\n",
    "#Any column with a mean of 'nan' contains no numbers\n",
    "\n",
    "temporary_mean"
   ]
  },
  {
   "cell_type": "code",
   "execution_count": 9,
   "id": "fb20b765",
   "metadata": {},
   "outputs": [
    {
     "name": "stderr",
     "output_type": "stream",
     "text": [
      "C:\\Users\\USER\\AppData\\Local\\Temp\\ipykernel_15708\\2183409543.py:1: RuntimeWarning: All-NaN slice encountered\n",
      "  temporary_stats = np.array([np.nanmin(raw_data_np, axis = 0),\n",
      "C:\\Users\\USER\\AppData\\Local\\Temp\\ipykernel_15708\\2183409543.py:3: RuntimeWarning: All-NaN slice encountered\n",
      "  np.nanmax(raw_data_np, axis = 0)])\n"
     ]
    }
   ],
   "source": [
    "temporary_stats = np.array([np.nanmin(raw_data_np, axis = 0),\n",
    "                           temporary_mean,\n",
    "                           np.nanmax(raw_data_np, axis = 0)])"
   ]
  },
  {
   "cell_type": "code",
   "execution_count": 10,
   "id": "70b19227",
   "metadata": {},
   "outputs": [
    {
     "data": {
      "text/plain": [
       "array([[  373332.  ,         nan,     1000.  ,         nan,     1000.  ,         nan,        6.  ,\n",
       "              31.42,         nan,         nan,         nan,         nan,         nan,        0.  ],\n",
       "       [54015809.19,         nan,    15273.46,         nan,    15311.04,         nan,       16.62,\n",
       "             440.92,         nan,         nan,         nan,         nan,         nan,     3143.85],\n",
       "       [68616519.  ,         nan,    35000.  ,         nan,    35000.  ,         nan,       28.99,\n",
       "            1372.97,         nan,         nan,         nan,         nan,         nan,    41913.62]])"
      ]
     },
     "execution_count": 10,
     "metadata": {},
     "output_type": "execute_result"
    }
   ],
   "source": [
    "temporary_stats"
   ]
  },
  {
   "cell_type": "markdown",
   "id": "9c435800",
   "metadata": {},
   "source": [
    "### Splitting the Dataset"
   ]
  },
  {
   "cell_type": "markdown",
   "id": "b6a0aa9d",
   "metadata": {},
   "source": [
    "### Splitting the Columns\n",
    "\n",
    "This will split the dataset into one with strings and another with numeric values"
   ]
  },
  {
   "cell_type": "code",
   "execution_count": 11,
   "id": "0609d19d",
   "metadata": {},
   "outputs": [
    {
     "data": {
      "text/plain": [
       "array([ 1,  3,  5,  8,  9, 10, 11, 12], dtype=int64)"
      ]
     },
     "execution_count": 11,
     "metadata": {},
     "output_type": "execute_result"
    }
   ],
   "source": [
    "columns_strings = np.argwhere(np.isnan(temporary_mean)).squeeze()\n",
    "columns_strings\n",
    "\n",
    "#.squeeze makes it one-dimentional instead of the 2-D array"
   ]
  },
  {
   "cell_type": "code",
   "execution_count": 12,
   "id": "95283783",
   "metadata": {},
   "outputs": [
    {
     "data": {
      "text/plain": [
       "array([ 0,  2,  4,  6,  7, 13], dtype=int64)"
      ]
     },
     "execution_count": 12,
     "metadata": {},
     "output_type": "execute_result"
    }
   ],
   "source": [
    "columns_numeric = np.argwhere(np.isnan(temporary_mean) == False).squeeze()\n",
    "columns_numeric"
   ]
  },
  {
   "cell_type": "markdown",
   "id": "beb273d7",
   "metadata": {},
   "source": [
    "### Re-importing the Dataset"
   ]
  },
  {
   "cell_type": "code",
   "execution_count": 13,
   "id": "5b018632",
   "metadata": {},
   "outputs": [
    {
     "data": {
      "text/plain": [
       "array([['May-15', 'Current', '36 months', ..., 'Verified',\n",
       "        'https://www.lendingclub.com/browse/loanDetail.action?loan_id=48010226', 'CA'],\n",
       "       ['', 'Current', '36 months', ..., 'Source Verified',\n",
       "        'https://www.lendingclub.com/browse/loanDetail.action?loan_id=57693261', 'NY'],\n",
       "       ['Sep-15', 'Current', '36 months', ..., 'Verified',\n",
       "        'https://www.lendingclub.com/browse/loanDetail.action?loan_id=59432726', 'PA'],\n",
       "       ...,\n",
       "       ['Jun-15', 'Current', '36 months', ..., 'Source Verified',\n",
       "        'https://www.lendingclub.com/browse/loanDetail.action?loan_id=50415990', 'CA'],\n",
       "       ['Apr-15', 'Current', '36 months', ..., 'Source Verified',\n",
       "        'https://www.lendingclub.com/browse/loanDetail.action?loan_id=46154151', 'OH'],\n",
       "       ['Dec-15', 'Current', '36 months', ..., '',\n",
       "        'https://www.lendingclub.com/browse/loanDetail.action?loan_id=66055249', 'IL']],\n",
       "      dtype='<U69')"
      ]
     },
     "execution_count": 13,
     "metadata": {},
     "output_type": "execute_result"
    }
   ],
   "source": [
    "loan_data_strings = np.genfromtxt(\"loan-data.csv\",\n",
    "                                  delimiter = ';',\n",
    "                                  skip_header = 1,\n",
    "                                  autostrip = True, \n",
    "                                  usecols = columns_strings,\n",
    "                                  dtype = np.str_)\n",
    "loan_data_strings"
   ]
  },
  {
   "cell_type": "code",
   "execution_count": 14,
   "id": "bf46a855",
   "metadata": {},
   "outputs": [
    {
     "data": {
      "text/plain": [
       "array([[48010226.  ,    35000.  ,    35000.  ,       13.33,     1184.86,     9452.96],\n",
       "       [57693261.  ,    30000.  ,    30000.  , 68616520.  ,      938.57,     4679.7 ],\n",
       "       [59432726.  ,    15000.  ,    15000.  , 68616520.  ,      494.86,     1969.83],\n",
       "       ...,\n",
       "       [50415990.  ,    10000.  ,    10000.  , 68616520.  , 68616520.  ,     2185.64],\n",
       "       [46154151.  , 68616520.  ,    10000.  ,       16.55,      354.3 ,     3199.4 ],\n",
       "       [66055249.  ,    10000.  ,    10000.  , 68616520.  ,      309.97,      301.9 ]])"
      ]
     },
     "execution_count": 14,
     "metadata": {},
     "output_type": "execute_result"
    }
   ],
   "source": [
    "loan_data_numeric = np.genfromtxt(\"loan-data.csv\",\n",
    "                                  delimiter = ';',\n",
    "                                  autostrip = True,\n",
    "                                  skip_header = 1,\n",
    "                                  usecols = columns_numeric,\n",
    "                                  filling_values = temporary_fill)\n",
    "loan_data_numeric"
   ]
  },
  {
   "cell_type": "markdown",
   "id": "606a91fd",
   "metadata": {},
   "source": [
    "### The names of the columns"
   ]
  },
  {
   "cell_type": "code",
   "execution_count": 15,
   "id": "b34c9f56",
   "metadata": {},
   "outputs": [
    {
     "data": {
      "text/plain": [
       "array(['id', 'issue_d', 'loan_amnt', 'loan_status', 'funded_amnt', 'term', 'int_rate',\n",
       "       'installment', 'grade', 'sub_grade', 'verification_status', 'url', 'addr_state',\n",
       "       'total_pymnt'], dtype='<U19')"
      ]
     },
     "execution_count": 15,
     "metadata": {},
     "output_type": "execute_result"
    }
   ],
   "source": [
    "header_full = np.genfromtxt(\"loan-data.csv\",\n",
    "                            delimiter = ';',\n",
    "                            autostrip = True,\n",
    "                            skip_footer = raw_data_np.shape[0],\n",
    "                            dtype = np.str_)\n",
    "header_full"
   ]
  },
  {
   "cell_type": "code",
   "execution_count": 16,
   "id": "14f8ac04",
   "metadata": {},
   "outputs": [],
   "source": [
    "header_strings, header_numeric = header_full[columns_strings], header_full[columns_numeric]"
   ]
  },
  {
   "cell_type": "code",
   "execution_count": 17,
   "id": "ddf819d4",
   "metadata": {},
   "outputs": [
    {
     "data": {
      "text/plain": [
       "array(['issue_d', 'loan_status', 'term', 'grade', 'sub_grade', 'verification_status', 'url',\n",
       "       'addr_state'], dtype='<U19')"
      ]
     },
     "execution_count": 17,
     "metadata": {},
     "output_type": "execute_result"
    }
   ],
   "source": [
    "header_strings"
   ]
  },
  {
   "cell_type": "code",
   "execution_count": 18,
   "id": "7f8562a5",
   "metadata": {},
   "outputs": [
    {
     "data": {
      "text/plain": [
       "array(['id', 'loan_amnt', 'funded_amnt', 'int_rate', 'installment', 'total_pymnt'], dtype='<U19')"
      ]
     },
     "execution_count": 18,
     "metadata": {},
     "output_type": "execute_result"
    }
   ],
   "source": [
    "header_numeric"
   ]
  },
  {
   "cell_type": "markdown",
   "id": "40b58635",
   "metadata": {},
   "source": [
    "### Creating Checkpoints"
   ]
  },
  {
   "cell_type": "code",
   "execution_count": 19,
   "id": "7a206acd",
   "metadata": {},
   "outputs": [],
   "source": [
    "def checkpoint(file_name, checkpoint_header, checkpoint_data):\n",
    "    np.savez(file_name, header = checkpoint_header, data = checkpoint_data)\n",
    "    checkpoint_variable = np.load(file_name + \".npz\")\n",
    "    return(checkpoint_variable)\n",
    "\n",
    "#Checkpoints are places throughout our code where we store a copy of our dataset (or only parts of it)\n",
    "#This is an extremely reliable practice when we need to clean or preprocess many parts of a dataset"
   ]
  },
  {
   "cell_type": "code",
   "execution_count": 20,
   "id": "f5cb834d",
   "metadata": {},
   "outputs": [],
   "source": [
    "checkpoint_test = checkpoint(\"checkpoint-test\", header_strings, loan_data_strings)"
   ]
  },
  {
   "cell_type": "code",
   "execution_count": 21,
   "id": "0bcba2f4",
   "metadata": {},
   "outputs": [
    {
     "data": {
      "text/plain": [
       "array([['May-15', 'Current', '36 months', ..., 'Verified',\n",
       "        'https://www.lendingclub.com/browse/loanDetail.action?loan_id=48010226', 'CA'],\n",
       "       ['', 'Current', '36 months', ..., 'Source Verified',\n",
       "        'https://www.lendingclub.com/browse/loanDetail.action?loan_id=57693261', 'NY'],\n",
       "       ['Sep-15', 'Current', '36 months', ..., 'Verified',\n",
       "        'https://www.lendingclub.com/browse/loanDetail.action?loan_id=59432726', 'PA'],\n",
       "       ...,\n",
       "       ['Jun-15', 'Current', '36 months', ..., 'Source Verified',\n",
       "        'https://www.lendingclub.com/browse/loanDetail.action?loan_id=50415990', 'CA'],\n",
       "       ['Apr-15', 'Current', '36 months', ..., 'Source Verified',\n",
       "        'https://www.lendingclub.com/browse/loanDetail.action?loan_id=46154151', 'OH'],\n",
       "       ['Dec-15', 'Current', '36 months', ..., '',\n",
       "        'https://www.lendingclub.com/browse/loanDetail.action?loan_id=66055249', 'IL']],\n",
       "      dtype='<U69')"
      ]
     },
     "execution_count": 21,
     "metadata": {},
     "output_type": "execute_result"
    }
   ],
   "source": [
    "checkpoint_test['data']"
   ]
  },
  {
   "cell_type": "code",
   "execution_count": 22,
   "id": "d5434fb6",
   "metadata": {},
   "outputs": [
    {
     "data": {
      "text/plain": [
       "True"
      ]
     },
     "execution_count": 22,
     "metadata": {},
     "output_type": "execute_result"
    }
   ],
   "source": [
    "np.array_equal(checkpoint_test['data'], loan_data_strings)"
   ]
  },
  {
   "cell_type": "markdown",
   "id": "1558d799",
   "metadata": {},
   "source": [
    "## Manipulating String Columns"
   ]
  },
  {
   "cell_type": "code",
   "execution_count": 23,
   "id": "9ca2913b",
   "metadata": {},
   "outputs": [
    {
     "data": {
      "text/plain": [
       "array(['issue_d', 'loan_status', 'term', 'grade', 'sub_grade', 'verification_status', 'url',\n",
       "       'addr_state'], dtype='<U19')"
      ]
     },
     "execution_count": 23,
     "metadata": {},
     "output_type": "execute_result"
    }
   ],
   "source": [
    "header_strings"
   ]
  },
  {
   "cell_type": "code",
   "execution_count": 24,
   "id": "e0f125d5",
   "metadata": {},
   "outputs": [],
   "source": [
    "header_strings[0] = \"issue_date\"\n",
    "\n",
    "#Assigning a proper name to the first column"
   ]
  },
  {
   "cell_type": "code",
   "execution_count": 25,
   "id": "35814020",
   "metadata": {},
   "outputs": [
    {
     "data": {
      "text/plain": [
       "array([['May-15', 'Current', '36 months', ..., 'Verified',\n",
       "        'https://www.lendingclub.com/browse/loanDetail.action?loan_id=48010226', 'CA'],\n",
       "       ['', 'Current', '36 months', ..., 'Source Verified',\n",
       "        'https://www.lendingclub.com/browse/loanDetail.action?loan_id=57693261', 'NY'],\n",
       "       ['Sep-15', 'Current', '36 months', ..., 'Verified',\n",
       "        'https://www.lendingclub.com/browse/loanDetail.action?loan_id=59432726', 'PA'],\n",
       "       ...,\n",
       "       ['Jun-15', 'Current', '36 months', ..., 'Source Verified',\n",
       "        'https://www.lendingclub.com/browse/loanDetail.action?loan_id=50415990', 'CA'],\n",
       "       ['Apr-15', 'Current', '36 months', ..., 'Source Verified',\n",
       "        'https://www.lendingclub.com/browse/loanDetail.action?loan_id=46154151', 'OH'],\n",
       "       ['Dec-15', 'Current', '36 months', ..., '',\n",
       "        'https://www.lendingclub.com/browse/loanDetail.action?loan_id=66055249', 'IL']],\n",
       "      dtype='<U69')"
      ]
     },
     "execution_count": 25,
     "metadata": {},
     "output_type": "execute_result"
    }
   ],
   "source": [
    "loan_data_strings"
   ]
  },
  {
   "cell_type": "markdown",
   "id": "385d4a44",
   "metadata": {},
   "source": [
    "### Issue Date"
   ]
  },
  {
   "cell_type": "code",
   "execution_count": 26,
   "id": "4c85fdf6",
   "metadata": {},
   "outputs": [
    {
     "data": {
      "text/plain": [
       "array(['', 'Apr-15', 'Aug-15', 'Dec-15', 'Feb-15', 'Jan-15', 'Jul-15', 'Jun-15', 'Mar-15',\n",
       "       'May-15', 'Nov-15', 'Oct-15', 'Sep-15'], dtype='<U69')"
      ]
     },
     "execution_count": 26,
     "metadata": {},
     "output_type": "execute_result"
    }
   ],
   "source": [
    "np.unique(loan_data_strings[:,0])\n",
    "\n",
    "#We use .unique to display all the unique values within the column.\n",
    "#The result (arranged alphabetically rather than chronologically) shows python treats them as just text rather than time stamps.\n"
   ]
  },
  {
   "cell_type": "code",
   "execution_count": 27,
   "id": "d5f2bd23",
   "metadata": {},
   "outputs": [],
   "source": [
    "#All the results are from 2015 so let's strip this from the data.\n",
    "\n",
    "loan_data_strings[:,0] = np.chararray.strip(loan_data_strings[:,0], \"-15\")"
   ]
  },
  {
   "cell_type": "code",
   "execution_count": 28,
   "id": "f5d4d8d3",
   "metadata": {},
   "outputs": [
    {
     "data": {
      "text/plain": [
       "array(['', 'Apr', 'Aug', 'Dec', 'Feb', 'Jan', 'Jul', 'Jun', 'Mar', 'May', 'Nov', 'Oct', 'Sep'],\n",
       "      dtype='<U69')"
      ]
     },
     "execution_count": 28,
     "metadata": {},
     "output_type": "execute_result"
    }
   ],
   "source": [
    "np.unique(loan_data_strings[:,0])"
   ]
  },
  {
   "cell_type": "code",
   "execution_count": 29,
   "id": "734721c7",
   "metadata": {},
   "outputs": [],
   "source": [
    "#Let's store month values as integers.\n",
    "\n",
    "months = np.array(['', 'Jan', 'Feb', 'Mar', 'Apr', 'May', 'Jun', 'Jul', 'Aug', 'Sep', 'Oct', 'Nov', 'Dec'])"
   ]
  },
  {
   "cell_type": "code",
   "execution_count": 30,
   "id": "c6890ec3",
   "metadata": {},
   "outputs": [],
   "source": [
    "for i in range(13):\n",
    "        loan_data_strings[:,0] = np.where(loan_data_strings[:,0] == months[i],\n",
    "                                          i,\n",
    "                                          loan_data_strings[:,0])\n",
    "\n",
    "#We use the for loop to assign numbers from 1-12 to each value of the months array.\n",
    "#Except the empty values which will be set to 0. We will attribute this to candidates who have no issue date on record."
   ]
  },
  {
   "cell_type": "code",
   "execution_count": 31,
   "id": "6b89b1b8",
   "metadata": {},
   "outputs": [
    {
     "data": {
      "text/plain": [
       "array(['0', '1', '10', '11', '12', '2', '3', '4', '5', '6', '7', '8', '9'], dtype='<U69')"
      ]
     },
     "execution_count": 31,
     "metadata": {},
     "output_type": "execute_result"
    }
   ],
   "source": [
    "np.unique(loan_data_strings[:,0])"
   ]
  },
  {
   "cell_type": "markdown",
   "id": "6a786151",
   "metadata": {},
   "source": [
    "### Loan Status"
   ]
  },
  {
   "cell_type": "code",
   "execution_count": 32,
   "id": "000d42c9",
   "metadata": {},
   "outputs": [
    {
     "data": {
      "text/plain": [
       "array(['issue_date', 'loan_status', 'term', 'grade', 'sub_grade', 'verification_status', 'url',\n",
       "       'addr_state'], dtype='<U19')"
      ]
     },
     "execution_count": 32,
     "metadata": {},
     "output_type": "execute_result"
    }
   ],
   "source": [
    "header_strings"
   ]
  },
  {
   "cell_type": "code",
   "execution_count": 33,
   "id": "034fd43d",
   "metadata": {},
   "outputs": [
    {
     "data": {
      "text/plain": [
       "array(['', 'Charged Off', 'Current', 'Default', 'Fully Paid', 'In Grace Period', 'Issued',\n",
       "       'Late (16-30 days)', 'Late (31-120 days)'], dtype='<U69')"
      ]
     },
     "execution_count": 33,
     "metadata": {},
     "output_type": "execute_result"
    }
   ],
   "source": [
    "np.unique(loan_data_strings[:,1])\n",
    "\n",
    "#This will display the output of the second column, loan_status"
   ]
  },
  {
   "cell_type": "code",
   "execution_count": 34,
   "id": "8ce3a3f7",
   "metadata": {},
   "outputs": [
    {
     "data": {
      "text/plain": [
       "9"
      ]
     },
     "execution_count": 34,
     "metadata": {},
     "output_type": "execute_result"
    }
   ],
   "source": [
    "np.unique(loan_data_strings[:,1]).size"
   ]
  },
  {
   "cell_type": "code",
   "execution_count": 35,
   "id": "ed382420",
   "metadata": {},
   "outputs": [],
   "source": [
    "#For the loan status, we know that regressions that determine the probability of default only care if the candidate is in a stable financial condition or not.\n",
    "#Therefore the loan status should only be a dummy variable showing whether the applicant is in a good or bad economic state.\n",
    "#So we need to split all values in these groups (\"good\" or \"bad\")."
   ]
  },
  {
   "cell_type": "code",
   "execution_count": 36,
   "id": "1daae0af",
   "metadata": {},
   "outputs": [],
   "source": [
    "#We'll create an array to include all the bad status accounts\n",
    "\n",
    "status_bad = np.array(['','Charged Off','Default','Late (31-120 days)'])"
   ]
  },
  {
   "cell_type": "code",
   "execution_count": 37,
   "id": "8455c7bc",
   "metadata": {},
   "outputs": [],
   "source": [
    "#Then we'll combine the np.where and np.isin to assign either a 0 for the bad status accounts or 1 for the rest\n",
    "\n",
    "loan_data_strings[:,1] = np.where(np.isin(loan_data_strings[:,1], status_bad),0,1)"
   ]
  },
  {
   "cell_type": "code",
   "execution_count": 38,
   "id": "ab922f59",
   "metadata": {},
   "outputs": [
    {
     "data": {
      "text/plain": [
       "array(['0', '1'], dtype='<U69')"
      ]
     },
     "execution_count": 38,
     "metadata": {},
     "output_type": "execute_result"
    }
   ],
   "source": [
    "np.unique(loan_data_strings[:,1])"
   ]
  },
  {
   "cell_type": "markdown",
   "id": "f8b4285f",
   "metadata": {},
   "source": [
    "### Term"
   ]
  },
  {
   "cell_type": "code",
   "execution_count": 39,
   "id": "6ef08fcd",
   "metadata": {},
   "outputs": [
    {
     "data": {
      "text/plain": [
       "array(['issue_date', 'loan_status', 'term', 'grade', 'sub_grade', 'verification_status', 'url',\n",
       "       'addr_state'], dtype='<U19')"
      ]
     },
     "execution_count": 39,
     "metadata": {},
     "output_type": "execute_result"
    }
   ],
   "source": [
    "header_strings"
   ]
  },
  {
   "cell_type": "code",
   "execution_count": 40,
   "id": "8f1e65d3",
   "metadata": {},
   "outputs": [
    {
     "data": {
      "text/plain": [
       "array(['', '36 months', '60 months'], dtype='<U69')"
      ]
     },
     "execution_count": 40,
     "metadata": {},
     "output_type": "execute_result"
    }
   ],
   "source": [
    "np.unique(loan_data_strings[:,2])\n",
    "\n",
    "#This will display the output of the third column"
   ]
  },
  {
   "cell_type": "code",
   "execution_count": 41,
   "id": "33f0290a",
   "metadata": {},
   "outputs": [
    {
     "data": {
      "text/plain": [
       "array(['36', '36', '36', ..., '36', '36', '36'], dtype='<U69')"
      ]
     },
     "execution_count": 41,
     "metadata": {},
     "output_type": "execute_result"
    }
   ],
   "source": [
    "#Let's strip the months off\n",
    "\n",
    "loan_data_strings[:,2] = np.chararray.strip(loan_data_strings[:,2], \" months\")\n",
    "loan_data_strings[:,2]"
   ]
  },
  {
   "cell_type": "code",
   "execution_count": 42,
   "id": "e2e468e0",
   "metadata": {},
   "outputs": [],
   "source": [
    "#Then we'll rename the column header to represent month term\n",
    "\n",
    "header_strings[2] = \"term_months\""
   ]
  },
  {
   "cell_type": "code",
   "execution_count": 43,
   "id": "1e963d1c",
   "metadata": {},
   "outputs": [
    {
     "data": {
      "text/plain": [
       "array(['36', '36', '36', ..., '36', '36', '36'], dtype='<U69')"
      ]
     },
     "execution_count": 43,
     "metadata": {},
     "output_type": "execute_result"
    }
   ],
   "source": [
    "#Let's assign the term of 60months to all missing values. In credit risk modelling, we assume the worst of situations\n",
    "\n",
    "loan_data_strings[:,2] = np.where(loan_data_strings[:,2] == '', \n",
    "                                  '60', \n",
    "                                  loan_data_strings[:,2])\n",
    "loan_data_strings[:,2]"
   ]
  },
  {
   "cell_type": "code",
   "execution_count": 44,
   "id": "a6ef7768",
   "metadata": {},
   "outputs": [
    {
     "data": {
      "text/plain": [
       "array(['36', '60'], dtype='<U69')"
      ]
     },
     "execution_count": 44,
     "metadata": {},
     "output_type": "execute_result"
    }
   ],
   "source": [
    "np.unique(loan_data_strings[:,2])"
   ]
  },
  {
   "cell_type": "code",
   "execution_count": 45,
   "id": "1dbcc10a",
   "metadata": {},
   "outputs": [],
   "source": [
    "#We could assign 0 and 1 to the output above as there are only those two possible outcomes.\n",
    "#We'll leave it as 36 and 60 as there's no instructions to do so."
   ]
  },
  {
   "cell_type": "markdown",
   "id": "57af56ae",
   "metadata": {},
   "source": [
    "### Grade and Subgrade"
   ]
  },
  {
   "cell_type": "code",
   "execution_count": 46,
   "id": "6a5e4d30",
   "metadata": {},
   "outputs": [
    {
     "data": {
      "text/plain": [
       "array(['issue_date', 'loan_status', 'term_months', 'grade', 'sub_grade', 'verification_status',\n",
       "       'url', 'addr_state'], dtype='<U19')"
      ]
     },
     "execution_count": 46,
     "metadata": {},
     "output_type": "execute_result"
    }
   ],
   "source": [
    "header_strings"
   ]
  },
  {
   "cell_type": "code",
   "execution_count": 47,
   "id": "cf330382",
   "metadata": {},
   "outputs": [
    {
     "data": {
      "text/plain": [
       "array(['', 'A', 'B', 'C', 'D', 'E', 'F', 'G'], dtype='<U69')"
      ]
     },
     "execution_count": 47,
     "metadata": {},
     "output_type": "execute_result"
    }
   ],
   "source": [
    "#Let's display the output of the 4th column, that is 3rd index\n",
    "\n",
    "np.unique(loan_data_strings[:,3])"
   ]
  },
  {
   "cell_type": "code",
   "execution_count": 48,
   "id": "45a7c7c1",
   "metadata": {},
   "outputs": [
    {
     "data": {
      "text/plain": [
       "array(['', 'A1', 'A2', 'A3', 'A4', 'A5', 'B1', 'B2', 'B3', 'B4', 'B5', 'C1', 'C2', 'C3', 'C4',\n",
       "       'C5', 'D1', 'D2', 'D3', 'D4', 'D5', 'E1', 'E2', 'E3', 'E4', 'E5', 'F1', 'F2', 'F3', 'F4',\n",
       "       'F5', 'G1', 'G2', 'G3', 'G4', 'G5'], dtype='<U69')"
      ]
     },
     "execution_count": 48,
     "metadata": {},
     "output_type": "execute_result"
    }
   ],
   "source": [
    "#Let's also examine subgrade column as they seem related\n",
    "\n",
    "np.unique(loan_data_strings[:,4])"
   ]
  },
  {
   "cell_type": "code",
   "execution_count": 49,
   "id": "8cb9a4cb",
   "metadata": {},
   "outputs": [],
   "source": [
    "#For every element in grade, there are 5 elements in subgrade. This would have made the grade column redondant.\n",
    "#But we can use grade to assign more appropriate estimations for any missing values in subgrade."
   ]
  },
  {
   "cell_type": "markdown",
   "id": "61d36ed1",
   "metadata": {},
   "source": [
    "#### Filling Sub Grade"
   ]
  },
  {
   "cell_type": "code",
   "execution_count": 50,
   "id": "bef9c26a",
   "metadata": {},
   "outputs": [],
   "source": [
    "#Let's fill the missing values in subgrade\n",
    "\n",
    "for i in np.unique(loan_data_strings[:,3])[1:]:\n",
    "    loan_data_strings[:,4] = np.where((loan_data_strings[:,4] == '') & (loan_data_strings[:,3] == i),\n",
    "                                      i + '5',\n",
    "                                      loan_data_strings[:,4])"
   ]
  },
  {
   "cell_type": "code",
   "execution_count": 51,
   "id": "04e3357b",
   "metadata": {},
   "outputs": [
    {
     "data": {
      "text/plain": [
       "array(['', 'A1', 'A2', 'A3', 'A4', 'A5', 'B1', 'B2', 'B3', 'B4', 'B5', 'C1', 'C2', 'C3', 'C4',\n",
       "       'C5', 'D1', 'D2', 'D3', 'D4', 'D5', 'E1', 'E2', 'E3', 'E4', 'E5', 'F1', 'F2', 'F3', 'F4',\n",
       "       'F5', 'G1', 'G2', 'G3', 'G4', 'G5'], dtype='<U69')"
      ]
     },
     "execution_count": 51,
     "metadata": {},
     "output_type": "execute_result"
    }
   ],
   "source": [
    "#The unique function shows that there are still missing elements in the subgrade.\n",
    "#This means some rows have neither grade nor subgrade.\n",
    "\n",
    "np.unique(loan_data_strings[:,4])"
   ]
  },
  {
   "cell_type": "code",
   "execution_count": 52,
   "id": "ba7a3e21",
   "metadata": {},
   "outputs": [
    {
     "data": {
      "text/plain": [
       "(array(['', 'A1', 'A2', 'A3', 'A4', 'A5', 'B1', 'B2', 'B3', 'B4', 'B5', 'C1', 'C2', 'C3', 'C4',\n",
       "        'C5', 'D1', 'D2', 'D3', 'D4', 'D5', 'E1', 'E2', 'E3', 'E4', 'E5', 'F1', 'F2', 'F3', 'F4',\n",
       "        'F5', 'G1', 'G2', 'G3', 'G4', 'G5'], dtype='<U69'),\n",
       " array([  9, 285, 278, 239, 323, 592, 509, 517, 530, 553, 633, 629, 567, 586, 564, 577, 391, 267,\n",
       "        250, 255, 288, 235, 162, 171, 139, 160,  94,  52,  34,  43,  24,  19,  10,   3,   7,   5],\n",
       "       dtype=int64))"
      ]
     },
     "execution_count": 52,
     "metadata": {},
     "output_type": "execute_result"
    }
   ],
   "source": [
    "#If we set return_counts = True, we can see the number of times it's corresponding value appears in the column.\n",
    "\n",
    "np.unique(loan_data_strings[:,4], return_counts = True)"
   ]
  },
  {
   "cell_type": "code",
   "execution_count": 53,
   "id": "fd190d35",
   "metadata": {},
   "outputs": [],
   "source": [
    "#This shows there are 9 instances where both column contain no data.\n",
    "#We could drop these rows as we have up to 10000 rows for analysis.\n",
    "#Instead, let's create a lower category subgrade for these accounts with missing elements.\n",
    "#As credit risk analysts, this category should be the lowest subgrade as we are trying to be risk-averse."
   ]
  },
  {
   "cell_type": "code",
   "execution_count": 54,
   "id": "964c37da",
   "metadata": {},
   "outputs": [],
   "source": [
    "loan_data_strings[:,4] = np.where(loan_data_strings[:,4] == '',\n",
    "                                  'H1',\n",
    "                                  loan_data_strings[:,4])"
   ]
  },
  {
   "cell_type": "code",
   "execution_count": 55,
   "id": "510d13c8",
   "metadata": {},
   "outputs": [
    {
     "data": {
      "text/plain": [
       "array(['A1', 'A2', 'A3', 'A4', 'A5', 'B1', 'B2', 'B3', 'B4', 'B5', 'C1', 'C2', 'C3', 'C4', 'C5',\n",
       "       'D1', 'D2', 'D3', 'D4', 'D5', 'E1', 'E2', 'E3', 'E4', 'E5', 'F1', 'F2', 'F3', 'F4', 'F5',\n",
       "       'G1', 'G2', 'G3', 'G4', 'G5', 'H1'], dtype='<U69')"
      ]
     },
     "execution_count": 55,
     "metadata": {},
     "output_type": "execute_result"
    }
   ],
   "source": [
    "#There are no more missing values\n",
    "\n",
    "np.unique(loan_data_strings[:,4])"
   ]
  },
  {
   "cell_type": "markdown",
   "id": "7bbdcc80",
   "metadata": {},
   "source": [
    "#### Removing Grade"
   ]
  },
  {
   "cell_type": "code",
   "execution_count": 56,
   "id": "fcd739da",
   "metadata": {},
   "outputs": [],
   "source": [
    "#All the information contained in grade are now in subgrade so we don't need it anymore."
   ]
  },
  {
   "cell_type": "code",
   "execution_count": 57,
   "id": "6de50f85",
   "metadata": {},
   "outputs": [],
   "source": [
    "loan_data_strings = np.delete(loan_data_strings, 3, axis = 1)"
   ]
  },
  {
   "cell_type": "code",
   "execution_count": 58,
   "id": "37c18b3e",
   "metadata": {},
   "outputs": [
    {
     "data": {
      "text/plain": [
       "array(['C3', 'A5', 'B5', ..., 'A5', 'D2', 'A4'], dtype='<U69')"
      ]
     },
     "execution_count": 58,
     "metadata": {},
     "output_type": "execute_result"
    }
   ],
   "source": [
    "#Index 3 column is no longer grade but subgrade\n",
    "\n",
    "loan_data_strings[:,3]"
   ]
  },
  {
   "cell_type": "code",
   "execution_count": 59,
   "id": "a00eedd8",
   "metadata": {},
   "outputs": [],
   "source": [
    "#Let's account for this change in the header as well\n",
    "\n",
    "header_strings = np.delete(header_strings, 3)"
   ]
  },
  {
   "cell_type": "code",
   "execution_count": 60,
   "id": "29b2587f",
   "metadata": {},
   "outputs": [
    {
     "data": {
      "text/plain": [
       "'sub_grade'"
      ]
     },
     "execution_count": 60,
     "metadata": {},
     "output_type": "execute_result"
    }
   ],
   "source": [
    "header_strings[3]"
   ]
  },
  {
   "cell_type": "markdown",
   "id": "2d0b5f17",
   "metadata": {},
   "source": [
    "### Converting Subgrade"
   ]
  },
  {
   "cell_type": "code",
   "execution_count": 61,
   "id": "9e9879fa",
   "metadata": {},
   "outputs": [],
   "source": [
    "#Focusing on subgrade"
   ]
  },
  {
   "cell_type": "code",
   "execution_count": 62,
   "id": "b165d6bb",
   "metadata": {},
   "outputs": [
    {
     "data": {
      "text/plain": [
       "array(['A1', 'A2', 'A3', 'A4', 'A5', 'B1', 'B2', 'B3', 'B4', 'B5', 'C1', 'C2', 'C3', 'C4', 'C5',\n",
       "       'D1', 'D2', 'D3', 'D4', 'D5', 'E1', 'E2', 'E3', 'E4', 'E5', 'F1', 'F2', 'F3', 'F4', 'F5',\n",
       "       'G1', 'G2', 'G3', 'G4', 'G5', 'H1'], dtype='<U69')"
      ]
     },
     "execution_count": 62,
     "metadata": {},
     "output_type": "execute_result"
    }
   ],
   "source": [
    "np.unique(loan_data_strings[:,3])"
   ]
  },
  {
   "cell_type": "code",
   "execution_count": 63,
   "id": "6ca8f3d6",
   "metadata": {},
   "outputs": [],
   "source": [
    "#We'll use a dictionary to convert the subgrade values into numbers.\n",
    "#Every key will be a unique subgrade represented as string while the value associated with it we'll designate a rank of trustworthiness, which will be a number.\n",
    "#A1 will be highest subgrade which will equal 1 and so on untill H1 which will equal 36."
   ]
  },
  {
   "cell_type": "code",
   "execution_count": 64,
   "id": "f048482f",
   "metadata": {},
   "outputs": [],
   "source": [
    "keys = list(np.unique(loan_data_strings[:,3]))                         \n",
    "values = list(range(1, np.unique(loan_data_strings[:,3]).shape[0] + 1)) \n",
    "dict_sub_grade = dict(zip(keys, values))"
   ]
  },
  {
   "cell_type": "code",
   "execution_count": 65,
   "id": "2087c6fa",
   "metadata": {
    "scrolled": true
   },
   "outputs": [
    {
     "data": {
      "text/plain": [
       "{'A1': 1,\n",
       " 'A2': 2,\n",
       " 'A3': 3,\n",
       " 'A4': 4,\n",
       " 'A5': 5,\n",
       " 'B1': 6,\n",
       " 'B2': 7,\n",
       " 'B3': 8,\n",
       " 'B4': 9,\n",
       " 'B5': 10,\n",
       " 'C1': 11,\n",
       " 'C2': 12,\n",
       " 'C3': 13,\n",
       " 'C4': 14,\n",
       " 'C5': 15,\n",
       " 'D1': 16,\n",
       " 'D2': 17,\n",
       " 'D3': 18,\n",
       " 'D4': 19,\n",
       " 'D5': 20,\n",
       " 'E1': 21,\n",
       " 'E2': 22,\n",
       " 'E3': 23,\n",
       " 'E4': 24,\n",
       " 'E5': 25,\n",
       " 'F1': 26,\n",
       " 'F2': 27,\n",
       " 'F3': 28,\n",
       " 'F4': 29,\n",
       " 'F5': 30,\n",
       " 'G1': 31,\n",
       " 'G2': 32,\n",
       " 'G3': 33,\n",
       " 'G4': 34,\n",
       " 'G5': 35,\n",
       " 'H1': 36}"
      ]
     },
     "execution_count": 65,
     "metadata": {},
     "output_type": "execute_result"
    }
   ],
   "source": [
    "dict_sub_grade"
   ]
  },
  {
   "cell_type": "code",
   "execution_count": 66,
   "id": "dbfbec3c",
   "metadata": {},
   "outputs": [],
   "source": [
    "#Inorder not to manually call the where function 36 times, we'll use a loop to assign numeric values to them.\n",
    "\n",
    "for i in np.unique(loan_data_strings[:,3]):\n",
    "        loan_data_strings[:,3] = np.where(loan_data_strings[:,3] == i, \n",
    "                                          dict_sub_grade[i],\n",
    "                                          loan_data_strings[:,3])"
   ]
  },
  {
   "cell_type": "code",
   "execution_count": 67,
   "id": "6e4c5882",
   "metadata": {},
   "outputs": [
    {
     "data": {
      "text/plain": [
       "array(['1', '10', '11', '12', '13', '14', '15', '16', '17', '18', '19', '2', '20', '21', '22',\n",
       "       '23', '24', '25', '26', '27', '28', '29', '3', '30', '31', '32', '33', '34', '35', '36',\n",
       "       '4', '5', '6', '7', '8', '9'], dtype='<U69')"
      ]
     },
     "execution_count": 67,
     "metadata": {},
     "output_type": "execute_result"
    }
   ],
   "source": [
    "np.unique(loan_data_strings[:,3])"
   ]
  },
  {
   "cell_type": "markdown",
   "id": "e053e3bb",
   "metadata": {},
   "source": [
    "### Verification Status"
   ]
  },
  {
   "cell_type": "code",
   "execution_count": 68,
   "id": "111d2672",
   "metadata": {},
   "outputs": [
    {
     "data": {
      "text/plain": [
       "array(['issue_date', 'loan_status', 'term_months', 'sub_grade', 'verification_status', 'url',\n",
       "       'addr_state'], dtype='<U19')"
      ]
     },
     "execution_count": 68,
     "metadata": {},
     "output_type": "execute_result"
    }
   ],
   "source": [
    "header_strings"
   ]
  },
  {
   "cell_type": "code",
   "execution_count": 69,
   "id": "a01d7c80",
   "metadata": {},
   "outputs": [
    {
     "data": {
      "text/plain": [
       "array(['', 'Not Verified', 'Source Verified', 'Verified'], dtype='<U69')"
      ]
     },
     "execution_count": 69,
     "metadata": {},
     "output_type": "execute_result"
    }
   ],
   "source": [
    "#Let's display the content of the 4th index\n",
    "\n",
    "np.unique(loan_data_strings[:,4])"
   ]
  },
  {
   "cell_type": "code",
   "execution_count": 70,
   "id": "3eb39b22",
   "metadata": {},
   "outputs": [],
   "source": [
    "#We'll assume that the missing values are not verified and combine them.\n",
    "#We'll also combine the two verified groups.\n",
    "#We'll then assign 0 to the unverified group and 1 to the verified group."
   ]
  },
  {
   "cell_type": "code",
   "execution_count": 71,
   "id": "74f62095",
   "metadata": {},
   "outputs": [],
   "source": [
    "loan_data_strings[:,4] = np.where((loan_data_strings[:,4] == '') | (loan_data_strings[:,4] == 'Not Verified'), 0, 1)"
   ]
  },
  {
   "cell_type": "code",
   "execution_count": 72,
   "id": "1d3707b2",
   "metadata": {},
   "outputs": [
    {
     "data": {
      "text/plain": [
       "array(['0', '1'], dtype='<U69')"
      ]
     },
     "execution_count": 72,
     "metadata": {},
     "output_type": "execute_result"
    }
   ],
   "source": [
    "np.unique(loan_data_strings[:,4])"
   ]
  },
  {
   "cell_type": "markdown",
   "id": "0b1c8458",
   "metadata": {},
   "source": [
    "### URL"
   ]
  },
  {
   "cell_type": "code",
   "execution_count": 73,
   "id": "a8da2221",
   "metadata": {},
   "outputs": [
    {
     "data": {
      "text/plain": [
       "array(['issue_date', 'loan_status', 'term_months', 'sub_grade', 'verification_status', 'url',\n",
       "       'addr_state'], dtype='<U19')"
      ]
     },
     "execution_count": 73,
     "metadata": {},
     "output_type": "execute_result"
    }
   ],
   "source": [
    "header_strings"
   ]
  },
  {
   "cell_type": "code",
   "execution_count": 74,
   "id": "baf228b3",
   "metadata": {},
   "outputs": [
    {
     "data": {
      "text/plain": [
       "array(['https://www.lendingclub.com/browse/loanDetail.action?loan_id=48010226',\n",
       "       'https://www.lendingclub.com/browse/loanDetail.action?loan_id=57693261',\n",
       "       'https://www.lendingclub.com/browse/loanDetail.action?loan_id=59432726', ...,\n",
       "       'https://www.lendingclub.com/browse/loanDetail.action?loan_id=50415990',\n",
       "       'https://www.lendingclub.com/browse/loanDetail.action?loan_id=46154151',\n",
       "       'https://www.lendingclub.com/browse/loanDetail.action?loan_id=66055249'], dtype='<U69')"
      ]
     },
     "execution_count": 74,
     "metadata": {},
     "output_type": "execute_result"
    }
   ],
   "source": [
    "loan_data_strings[:,5]"
   ]
  },
  {
   "cell_type": "code",
   "execution_count": 75,
   "id": "9128438c",
   "metadata": {},
   "outputs": [
    {
     "data": {
      "text/plain": [
       "chararray(['48010226', '57693261', '59432726', ..., '50415990', '46154151', '66055249'],\n",
       "          dtype='<U69')"
      ]
     },
     "execution_count": 75,
     "metadata": {},
     "output_type": "execute_result"
    }
   ],
   "source": [
    "#The URL seems identical except for the numbers at the end.\n",
    "#So let's use the strip function to keep only these numbers.\n",
    "\n",
    "np.chararray.strip(loan_data_strings[:,5], \"https://www.lendingclub.com/browse/loanDetail.action?loan_id=\")"
   ]
  },
  {
   "cell_type": "code",
   "execution_count": 76,
   "id": "0b426315",
   "metadata": {},
   "outputs": [],
   "source": [
    "loan_data_strings[:,5] = np.chararray.strip(loan_data_strings[:,5], \"https://www.lendingclub.com/browse/loanDetail.action?loan_id=\")"
   ]
  },
  {
   "cell_type": "code",
   "execution_count": 77,
   "id": "2ffbcec4",
   "metadata": {},
   "outputs": [],
   "source": [
    "#The values from these columns are the equivalence of load_id.\n",
    "#But there's already an id column so let's check if there are the same."
   ]
  },
  {
   "cell_type": "code",
   "execution_count": 78,
   "id": "7128fc65",
   "metadata": {},
   "outputs": [
    {
     "data": {
      "text/plain": [
       "array(['id', 'issue_d', 'loan_amnt', 'loan_status', 'funded_amnt', 'term', 'int_rate',\n",
       "       'installment', 'grade', 'sub_grade', 'verification_status', 'url', 'addr_state',\n",
       "       'total_pymnt'], dtype='<U19')"
      ]
     },
     "execution_count": 78,
     "metadata": {},
     "output_type": "execute_result"
    }
   ],
   "source": [
    "header_full"
   ]
  },
  {
   "cell_type": "code",
   "execution_count": 79,
   "id": "9323b7cc",
   "metadata": {},
   "outputs": [
    {
     "data": {
      "text/plain": [
       "array([48010226, 57693261, 59432726, ..., 50415990, 46154151, 66055249])"
      ]
     },
     "execution_count": 79,
     "metadata": {},
     "output_type": "execute_result"
    }
   ],
   "source": [
    "loan_data_numeric[:,0].astype(dtype = np.int32)"
   ]
  },
  {
   "cell_type": "code",
   "execution_count": 80,
   "id": "718d1b11",
   "metadata": {},
   "outputs": [
    {
     "data": {
      "text/plain": [
       "array([48010226, 57693261, 59432726, ..., 50415990, 46154151, 66055249])"
      ]
     },
     "execution_count": 80,
     "metadata": {},
     "output_type": "execute_result"
    }
   ],
   "source": [
    "loan_data_strings[:,5].astype(dtype = np.int32)"
   ]
  },
  {
   "cell_type": "code",
   "execution_count": 81,
   "id": "0874464e",
   "metadata": {},
   "outputs": [
    {
     "data": {
      "text/plain": [
       "True"
      ]
     },
     "execution_count": 81,
     "metadata": {},
     "output_type": "execute_result"
    }
   ],
   "source": [
    "#They are identical but let's use the array_equal to be certain\n",
    "\n",
    "np.array_equal(loan_data_numeric[:,0].astype(dtype = np.int32), loan_data_strings[:,5].astype(dtype = np.int32))"
   ]
  },
  {
   "cell_type": "code",
   "execution_count": 82,
   "id": "8c88aad3",
   "metadata": {},
   "outputs": [],
   "source": [
    "#Confirming these columns are the same, we can delete the URL column from the dataset and the header as well.\n",
    "\n",
    "loan_data_strings = np.delete(loan_data_strings, 5, axis = 1)\n",
    "header_strings = np.delete(header_strings, 5)"
   ]
  },
  {
   "cell_type": "code",
   "execution_count": 83,
   "id": "a73461e9",
   "metadata": {},
   "outputs": [
    {
     "data": {
      "text/plain": [
       "array(['CA', 'NY', 'PA', ..., 'CA', 'OH', 'IL'], dtype='<U69')"
      ]
     },
     "execution_count": 83,
     "metadata": {},
     "output_type": "execute_result"
    }
   ],
   "source": [
    "loan_data_strings[:,5]"
   ]
  },
  {
   "cell_type": "code",
   "execution_count": 84,
   "id": "0201b0f3",
   "metadata": {},
   "outputs": [
    {
     "data": {
      "text/plain": [
       "array(['issue_date', 'loan_status', 'term_months', 'sub_grade', 'verification_status',\n",
       "       'addr_state'], dtype='<U19')"
      ]
     },
     "execution_count": 84,
     "metadata": {},
     "output_type": "execute_result"
    }
   ],
   "source": [
    "header_strings"
   ]
  },
  {
   "cell_type": "code",
   "execution_count": 85,
   "id": "921b77a8",
   "metadata": {},
   "outputs": [
    {
     "data": {
      "text/plain": [
       "array([48010226., 57693261., 59432726., ..., 50415990., 46154151., 66055249.])"
      ]
     },
     "execution_count": 85,
     "metadata": {},
     "output_type": "execute_result"
    }
   ],
   "source": [
    "#Let's also check the id column to confirm we didn't delete\n",
    "\n",
    "loan_data_numeric[:,0]"
   ]
  },
  {
   "cell_type": "code",
   "execution_count": 86,
   "id": "c3e59548",
   "metadata": {},
   "outputs": [
    {
     "data": {
      "text/plain": [
       "array(['id', 'loan_amnt', 'funded_amnt', 'int_rate', 'installment', 'total_pymnt'], dtype='<U19')"
      ]
     },
     "execution_count": 86,
     "metadata": {},
     "output_type": "execute_result"
    }
   ],
   "source": [
    "header_numeric"
   ]
  },
  {
   "cell_type": "markdown",
   "id": "3543e15f",
   "metadata": {},
   "source": [
    "### State Address"
   ]
  },
  {
   "cell_type": "code",
   "execution_count": 87,
   "id": "516bc8a9",
   "metadata": {},
   "outputs": [
    {
     "data": {
      "text/plain": [
       "array(['issue_date', 'loan_status', 'term_months', 'sub_grade', 'verification_status',\n",
       "       'addr_state'], dtype='<U19')"
      ]
     },
     "execution_count": 87,
     "metadata": {},
     "output_type": "execute_result"
    }
   ],
   "source": [
    "header_strings"
   ]
  },
  {
   "cell_type": "code",
   "execution_count": 88,
   "id": "5b1f623a",
   "metadata": {},
   "outputs": [],
   "source": [
    "#Let's rename the deafault\n",
    "#It's now occupying the 5th index position after we removed URL\n",
    "\n",
    "header_strings[5] = \"state_address\""
   ]
  },
  {
   "cell_type": "code",
   "execution_count": 89,
   "id": "1423ea12",
   "metadata": {},
   "outputs": [
    {
     "data": {
      "text/plain": [
       "array(['CA', 'NY', 'PA', ..., 'CA', 'OH', 'IL'], dtype='<U69')"
      ]
     },
     "execution_count": 89,
     "metadata": {},
     "output_type": "execute_result"
    }
   ],
   "source": [
    "loan_data_strings[:,5]"
   ]
  },
  {
   "cell_type": "code",
   "execution_count": 90,
   "id": "a1c79e69",
   "metadata": {},
   "outputs": [
    {
     "data": {
      "text/plain": [
       "array(['', 'AK', 'AL', 'AR', 'AZ', 'CA', 'CO', 'CT', 'DC', 'DE', 'FL', 'GA', 'HI', 'IL', 'IN',\n",
       "       'KS', 'KY', 'LA', 'MA', 'MD', 'ME', 'MI', 'MN', 'MO', 'MS', 'MT', 'NC', 'ND', 'NE', 'NH',\n",
       "       'NJ', 'NM', 'NV', 'NY', 'OH', 'OK', 'OR', 'PA', 'RI', 'SC', 'SD', 'TN', 'TX', 'UT', 'VA',\n",
       "       'VT', 'WA', 'WI', 'WV', 'WY'], dtype='<U69')"
      ]
     },
     "execution_count": 90,
     "metadata": {},
     "output_type": "execute_result"
    }
   ],
   "source": [
    "np.unique(loan_data_strings[:,5])"
   ]
  },
  {
   "cell_type": "code",
   "execution_count": 91,
   "id": "72d9a854",
   "metadata": {},
   "outputs": [
    {
     "data": {
      "text/plain": [
       "50"
      ]
     },
     "execution_count": 91,
     "metadata": {},
     "output_type": "execute_result"
    }
   ],
   "source": [
    "np.unique(loan_data_strings[:,5]).size"
   ]
  },
  {
   "cell_type": "code",
   "execution_count": 92,
   "id": "9b0c1245",
   "metadata": {},
   "outputs": [],
   "source": [
    "#Seeing there's a missing value, one state is missing.\n",
    "#This is Iowa(IA). We suspect it was purposefully left as a baseline benchmark.\n",
    "#When doing research or analysis on a variable with many categories, it is normal to pick one as a benchmark and include dummy variables for the rest."
   ]
  },
  {
   "cell_type": "code",
   "execution_count": 93,
   "id": "36eaf38d",
   "metadata": {},
   "outputs": [
    {
     "data": {
      "text/plain": [
       "(array(['', 'AK', 'AL', 'AR', 'AZ', 'CA', 'CO', 'CT', 'DC', 'DE', 'FL', 'GA', 'HI', 'IL', 'IN',\n",
       "        'KS', 'KY', 'LA', 'MA', 'MD', 'ME', 'MI', 'MN', 'MO', 'MS', 'MT', 'NC', 'ND', 'NE', 'NH',\n",
       "        'NJ', 'NM', 'NV', 'NY', 'OH', 'OK', 'OR', 'PA', 'RI', 'SC', 'SD', 'TN', 'TX', 'UT', 'VA',\n",
       "        'VT', 'WA', 'WI', 'WV', 'WY'], dtype='<U69'),\n",
       " array([ 500,   26,  119,   74,  220, 1336,  201,  143,   27,   27,  690,  321,   44,  389,  152,\n",
       "          84,   84,  116,  210,  222,   10,  267,  156,  160,   61,   28,  261,   16,   25,   58,\n",
       "         341,   57,  130,  777,  312,   83,  108,  320,   40,  107,   24,  143,  758,   74,  242,\n",
       "          17,  216,  148,   49,   27], dtype=int64))"
      ]
     },
     "execution_count": 93,
     "metadata": {},
     "output_type": "execute_result"
    }
   ],
   "source": [
    "#We can also see how many times each state features\n",
    "\n",
    "np.unique(loan_data_strings[:,5], return_counts = True)"
   ]
  },
  {
   "cell_type": "code",
   "execution_count": 94,
   "id": "7e083a47",
   "metadata": {},
   "outputs": [
    {
     "data": {
      "text/plain": [
       "(array(['CA', 'NY', 'TX', 'FL', '', 'IL', 'NJ', 'GA', 'PA', 'OH', 'MI', 'NC', 'VA', 'MD', 'AZ',\n",
       "        'WA', 'MA', 'CO', 'MO', 'MN', 'IN', 'WI', 'CT', 'TN', 'NV', 'AL', 'LA', 'OR', 'SC', 'KY',\n",
       "        'KS', 'OK', 'UT', 'AR', 'MS', 'NH', 'NM', 'WV', 'HI', 'RI', 'MT', 'DE', 'DC', 'WY', 'AK',\n",
       "        'NE', 'SD', 'VT', 'ND', 'ME'], dtype='<U69'),\n",
       " array([1336,  777,  758,  690,  500,  389,  341,  321,  320,  312,  267,  261,  242,  222,  220,\n",
       "         216,  210,  201,  160,  156,  152,  148,  143,  143,  130,  119,  116,  108,  107,   84,\n",
       "          84,   83,   74,   74,   61,   58,   57,   49,   44,   40,   28,   27,   27,   27,   26,\n",
       "          25,   24,   17,   16,   10], dtype=int64))"
      ]
     },
     "execution_count": 94,
     "metadata": {},
     "output_type": "execute_result"
    }
   ],
   "source": [
    "#Let's display the states according to the number of applications\n",
    "\n",
    "states_names, states_count = np.unique(loan_data_strings[:,5], return_counts = True)\n",
    "states_count_sorted = np.argsort(-states_count)\n",
    "states_names[states_count_sorted], states_count[states_count_sorted]"
   ]
  },
  {
   "cell_type": "code",
   "execution_count": 95,
   "id": "31b75835",
   "metadata": {},
   "outputs": [],
   "source": [
    "#Applications with no address is in the 5th position.\n",
    "#There are more applications with missing or unreported addresses than there are for 45 of the other states."
   ]
  },
  {
   "cell_type": "code",
   "execution_count": 96,
   "id": "b1d8be4a",
   "metadata": {},
   "outputs": [],
   "source": [
    "#We have very little data for too many states to examine each one individually.\n",
    "#If we assign a unique value to each state, this will allow outliers to have a big influence on the coefficients for less represented states.\n",
    "#So let's group these states according to a certain common characteristics - Geographical Region."
   ]
  },
  {
   "cell_type": "code",
   "execution_count": 97,
   "id": "47f9ed33",
   "metadata": {},
   "outputs": [],
   "source": [
    "#First, let's assign 0 to the empty spaces in the column.\n",
    "#Hence, accounts with no address won't be included in any region to avoid biasing with variable coefficients.\n",
    "\n",
    "loan_data_strings[:,5] = np.where(loan_data_strings[:,5] == '', \n",
    "                                  0, \n",
    "                                  loan_data_strings[:,5])"
   ]
  },
  {
   "cell_type": "code",
   "execution_count": 98,
   "id": "054bb02f",
   "metadata": {},
   "outputs": [],
   "source": [
    "#https://www2.census.gov/geo/pdfs/maps-data/maps/reference/us_regdiv.pdf (Division guide)\n",
    "\n",
    "states_west = np.array(['WA', 'OR','CA','NV','ID','MT', 'WY','UT','CO', 'AZ','NM','HI','AK'])\n",
    "states_south = np.array(['TX','OK','AR','LA','MS','AL','TN','KY','FL','GA','SC','NC','VA','WV','MD','DE','DC'])\n",
    "states_midwest = np.array(['ND','SD','NE','KS','MN','IA','MO','WI','IL','IN','MI','OH'])\n",
    "states_east = np.array(['PA','NY','NJ','CT','MA','VT','NH','ME','RI'])"
   ]
  },
  {
   "cell_type": "code",
   "execution_count": 99,
   "id": "027988dd",
   "metadata": {},
   "outputs": [],
   "source": [
    "#Let's assign numeric values for each region\n",
    "\n",
    "loan_data_strings[:,5] = np.where(np.isin(loan_data_strings[:,5], states_west), 1, loan_data_strings[:,5])\n",
    "loan_data_strings[:,5] = np.where(np.isin(loan_data_strings[:,5], states_south), 2, loan_data_strings[:,5])\n",
    "loan_data_strings[:,5] = np.where(np.isin(loan_data_strings[:,5], states_midwest), 3, loan_data_strings[:,5])\n",
    "loan_data_strings[:,5] = np.where(np.isin(loan_data_strings[:,5], states_east), 4, loan_data_strings[:,5])"
   ]
  },
  {
   "cell_type": "code",
   "execution_count": 100,
   "id": "5bb99753",
   "metadata": {},
   "outputs": [
    {
     "data": {
      "text/plain": [
       "array(['0', '1', '2', '3', '4'], dtype='<U69')"
      ]
     },
     "execution_count": 100,
     "metadata": {},
     "output_type": "execute_result"
    }
   ],
   "source": [
    "np.unique(loan_data_strings[:,5])"
   ]
  },
  {
   "cell_type": "markdown",
   "id": "681f4e1a",
   "metadata": {},
   "source": [
    "### Converting to Numbers"
   ]
  },
  {
   "cell_type": "code",
   "execution_count": 101,
   "id": "81e93977",
   "metadata": {},
   "outputs": [],
   "source": [
    "#We've converted whatever string data we had into numeric values stored as text.\n",
    "#We need to convert them into data type recognizable as numeric."
   ]
  },
  {
   "cell_type": "code",
   "execution_count": 102,
   "id": "9275f17c",
   "metadata": {},
   "outputs": [
    {
     "data": {
      "text/plain": [
       "array([['5', '1', '36', '13', '1', '1'],\n",
       "       ['0', '1', '36', '5', '1', '4'],\n",
       "       ['9', '1', '36', '10', '1', '4'],\n",
       "       ...,\n",
       "       ['6', '1', '36', '5', '1', '1'],\n",
       "       ['4', '1', '36', '17', '1', '3'],\n",
       "       ['12', '1', '36', '4', '0', '3']], dtype='<U69')"
      ]
     },
     "execution_count": 102,
     "metadata": {},
     "output_type": "execute_result"
    }
   ],
   "source": [
    "loan_data_strings"
   ]
  },
  {
   "cell_type": "code",
   "execution_count": 103,
   "id": "edca4dc5",
   "metadata": {},
   "outputs": [],
   "source": [
    "#Let's cast these strings into integers using the astype method\n",
    "\n",
    "loan_data_strings = loan_data_strings.astype(int)"
   ]
  },
  {
   "cell_type": "code",
   "execution_count": 104,
   "id": "f607aeb5",
   "metadata": {},
   "outputs": [
    {
     "data": {
      "text/plain": [
       "array([[ 5,  1, 36, 13,  1,  1],\n",
       "       [ 0,  1, 36,  5,  1,  4],\n",
       "       [ 9,  1, 36, 10,  1,  4],\n",
       "       ...,\n",
       "       [ 6,  1, 36,  5,  1,  1],\n",
       "       [ 4,  1, 36, 17,  1,  3],\n",
       "       [12,  1, 36,  4,  0,  3]])"
      ]
     },
     "execution_count": 104,
     "metadata": {},
     "output_type": "execute_result"
    }
   ],
   "source": [
    "loan_data_strings"
   ]
  },
  {
   "cell_type": "markdown",
   "id": "d905a418",
   "metadata": {},
   "source": [
    "### Checkpont 1 - Strings"
   ]
  },
  {
   "cell_type": "code",
   "execution_count": 105,
   "id": "51731cda",
   "metadata": {},
   "outputs": [],
   "source": [
    "checkpoint_strings = checkpoint(\"Checkpoint-Strings\", header_strings, loan_data_strings)"
   ]
  },
  {
   "cell_type": "code",
   "execution_count": 106,
   "id": "a4a83161",
   "metadata": {},
   "outputs": [
    {
     "data": {
      "text/plain": [
       "array(['issue_date', 'loan_status', 'term_months', 'sub_grade', 'verification_status',\n",
       "       'state_address'], dtype='<U19')"
      ]
     },
     "execution_count": 106,
     "metadata": {},
     "output_type": "execute_result"
    }
   ],
   "source": [
    "checkpoint_strings[\"header\"]"
   ]
  },
  {
   "cell_type": "code",
   "execution_count": 107,
   "id": "da4f21c8",
   "metadata": {},
   "outputs": [
    {
     "data": {
      "text/plain": [
       "array([[ 5,  1, 36, 13,  1,  1],\n",
       "       [ 0,  1, 36,  5,  1,  4],\n",
       "       [ 9,  1, 36, 10,  1,  4],\n",
       "       ...,\n",
       "       [ 6,  1, 36,  5,  1,  1],\n",
       "       [ 4,  1, 36, 17,  1,  3],\n",
       "       [12,  1, 36,  4,  0,  3]])"
      ]
     },
     "execution_count": 107,
     "metadata": {},
     "output_type": "execute_result"
    }
   ],
   "source": [
    "checkpoint_strings[\"data\"]"
   ]
  },
  {
   "cell_type": "code",
   "execution_count": 108,
   "id": "5ea1cc5a",
   "metadata": {},
   "outputs": [
    {
     "data": {
      "text/plain": [
       "True"
      ]
     },
     "execution_count": 108,
     "metadata": {},
     "output_type": "execute_result"
    }
   ],
   "source": [
    "#To compare if our checkpoint has the same values as our dataset\n",
    "\n",
    "np.array_equal(checkpoint_strings['data'], loan_data_strings)"
   ]
  },
  {
   "cell_type": "markdown",
   "id": "a033a984",
   "metadata": {},
   "source": [
    "## Manipulating Numeric Columns"
   ]
  },
  {
   "cell_type": "code",
   "execution_count": 109,
   "id": "72c018fb",
   "metadata": {},
   "outputs": [
    {
     "data": {
      "text/plain": [
       "array([[48010226.  ,    35000.  ,    35000.  ,       13.33,     1184.86,     9452.96],\n",
       "       [57693261.  ,    30000.  ,    30000.  , 68616520.  ,      938.57,     4679.7 ],\n",
       "       [59432726.  ,    15000.  ,    15000.  , 68616520.  ,      494.86,     1969.83],\n",
       "       ...,\n",
       "       [50415990.  ,    10000.  ,    10000.  , 68616520.  , 68616520.  ,     2185.64],\n",
       "       [46154151.  , 68616520.  ,    10000.  ,       16.55,      354.3 ,     3199.4 ],\n",
       "       [66055249.  ,    10000.  ,    10000.  , 68616520.  ,      309.97,      301.9 ]])"
      ]
     },
     "execution_count": 109,
     "metadata": {},
     "output_type": "execute_result"
    }
   ],
   "source": [
    "loan_data_numeric"
   ]
  },
  {
   "cell_type": "code",
   "execution_count": 110,
   "id": "cbfb1ae7",
   "metadata": {},
   "outputs": [
    {
     "data": {
      "text/plain": [
       "0"
      ]
     },
     "execution_count": 110,
     "metadata": {},
     "output_type": "execute_result"
    }
   ],
   "source": [
    "np.isnan(loan_data_numeric).sum()"
   ]
  },
  {
   "cell_type": "markdown",
   "id": "26f9ec62",
   "metadata": {},
   "source": [
    "### Substitute Filler Values"
   ]
  },
  {
   "cell_type": "code",
   "execution_count": 111,
   "id": "3e1ebf95",
   "metadata": {},
   "outputs": [],
   "source": [
    "#Upon splitting the dataset earlier, we set all missing values equal temporary fill.\n",
    "#So, there aren't any missing values in the array, but we have to substitute all those fillers with the worst possible values."
   ]
  },
  {
   "cell_type": "code",
   "execution_count": 112,
   "id": "182754d7",
   "metadata": {},
   "outputs": [
    {
     "data": {
      "text/plain": [
       "array(['id', 'loan_amnt', 'funded_amnt', 'int_rate', 'installment', 'total_pymnt'], dtype='<U19')"
      ]
     },
     "execution_count": 112,
     "metadata": {},
     "output_type": "execute_result"
    }
   ],
   "source": [
    "header_numeric"
   ]
  },
  {
   "cell_type": "code",
   "execution_count": 113,
   "id": "198fd3ad",
   "metadata": {},
   "outputs": [],
   "source": [
    "#I'll check whether any of the elements of this column equal the temporary fill"
   ]
  },
  {
   "cell_type": "markdown",
   "id": "10067dbc",
   "metadata": {},
   "source": [
    "#### ID"
   ]
  },
  {
   "cell_type": "code",
   "execution_count": 114,
   "id": "1366e07e",
   "metadata": {},
   "outputs": [
    {
     "data": {
      "text/plain": [
       "68616520.0"
      ]
     },
     "execution_count": 114,
     "metadata": {},
     "output_type": "execute_result"
    }
   ],
   "source": [
    "temporary_fill"
   ]
  },
  {
   "cell_type": "code",
   "execution_count": 115,
   "id": "61552931",
   "metadata": {},
   "outputs": [
    {
     "data": {
      "text/plain": [
       "array([False, False, False, ..., False, False, False])"
      ]
     },
     "execution_count": 115,
     "metadata": {},
     "output_type": "execute_result"
    }
   ],
   "source": [
    "np.isin(loan_data_numeric[:,0], temporary_fill)"
   ]
  },
  {
   "cell_type": "code",
   "execution_count": 116,
   "id": "bdd97e6a",
   "metadata": {},
   "outputs": [
    {
     "data": {
      "text/plain": [
       "0"
      ]
     },
     "execution_count": 116,
     "metadata": {},
     "output_type": "execute_result"
    }
   ],
   "source": [
    "np.isin(loan_data_numeric[:,0], temporary_fill).sum()"
   ]
  },
  {
   "cell_type": "code",
   "execution_count": 117,
   "id": "6e395963",
   "metadata": {},
   "outputs": [
    {
     "data": {
      "text/plain": [
       "array(['id', 'loan_amnt', 'funded_amnt', 'int_rate', 'installment', 'total_pymnt'], dtype='<U19')"
      ]
     },
     "execution_count": 117,
     "metadata": {},
     "output_type": "execute_result"
    }
   ],
   "source": [
    "header_numeric"
   ]
  },
  {
   "cell_type": "code",
   "execution_count": 118,
   "id": "805932f5",
   "metadata": {},
   "outputs": [],
   "source": [
    "#Of all the columns, the only one where the minimum value can be considered worse is the funded_amnt.\n",
    "#So, I will replace the fillers for funded_amnt with the minimum value possible and the rest with the maximum values recorded from each column."
   ]
  },
  {
   "cell_type": "markdown",
   "id": "7939369e",
   "metadata": {},
   "source": [
    "#### Temporary Stats"
   ]
  },
  {
   "cell_type": "code",
   "execution_count": 119,
   "id": "601dd7d0",
   "metadata": {},
   "outputs": [
    {
     "data": {
      "text/plain": [
       "array([[  373332.  ,         nan,     1000.  ,         nan,     1000.  ,         nan,        6.  ,\n",
       "              31.42,         nan,         nan,         nan,         nan,         nan,        0.  ],\n",
       "       [54015809.19,         nan,    15273.46,         nan,    15311.04,         nan,       16.62,\n",
       "             440.92,         nan,         nan,         nan,         nan,         nan,     3143.85],\n",
       "       [68616519.  ,         nan,    35000.  ,         nan,    35000.  ,         nan,       28.99,\n",
       "            1372.97,         nan,         nan,         nan,         nan,         nan,    41913.62]])"
      ]
     },
     "execution_count": 119,
     "metadata": {},
     "output_type": "execute_result"
    }
   ],
   "source": [
    "#Earlier, I stored all the minimum, maximum and mean values of each column in tempoaray_stats variable\n",
    "\n",
    "temporary_stats"
   ]
  },
  {
   "cell_type": "code",
   "execution_count": 120,
   "id": "e390e308",
   "metadata": {},
   "outputs": [
    {
     "data": {
      "text/plain": [
       "array([[  373332.  ,     1000.  ,     1000.  ,        6.  ,       31.42,        0.  ],\n",
       "       [54015809.19,    15273.46,    15311.04,       16.62,      440.92,     3143.85],\n",
       "       [68616519.  ,    35000.  ,    35000.  ,       28.99,     1372.97,    41913.62]])"
      ]
     },
     "execution_count": 120,
     "metadata": {},
     "output_type": "execute_result"
    }
   ],
   "source": [
    "#I don't want the nans so I'll use indexing to retrieve only the numeric columns\n",
    "\n",
    "temporary_stats[:, columns_numeric]\n",
    "\n",
    "#We can see that the top rows hold all the minimum values, the middle holds all the means and the bottom holds all the maximum values.\n",
    "#I will use these to fill out all the temporary fillers.\n",
    "#I will refer to the various rows as temporary_min, temporary_mean and temporary_max respectively."
   ]
  },
  {
   "cell_type": "markdown",
   "id": "f0a9ef36",
   "metadata": {},
   "source": [
    "#### Funded Amount"
   ]
  },
  {
   "cell_type": "code",
   "execution_count": 121,
   "id": "60a5bac0",
   "metadata": {},
   "outputs": [],
   "source": [
    "#I will set the fillers here to the minimum value as stated earlier."
   ]
  },
  {
   "cell_type": "code",
   "execution_count": 122,
   "id": "c5a98ca0",
   "metadata": {},
   "outputs": [
    {
     "data": {
      "text/plain": [
       "array([35000., 30000., 15000., ..., 10000., 10000., 10000.])"
      ]
     },
     "execution_count": 122,
     "metadata": {},
     "output_type": "execute_result"
    }
   ],
   "source": [
    "loan_data_numeric[:,2]"
   ]
  },
  {
   "cell_type": "code",
   "execution_count": 123,
   "id": "67643800",
   "metadata": {},
   "outputs": [
    {
     "data": {
      "text/plain": [
       "array([35000., 30000., 15000., ..., 10000., 10000., 10000.])"
      ]
     },
     "execution_count": 123,
     "metadata": {},
     "output_type": "execute_result"
    }
   ],
   "source": [
    "loan_data_numeric[:,2] = np.where(loan_data_numeric[:,2] == temporary_fill, \n",
    "                                  temporary_stats[0, columns_numeric[2]],\n",
    "                                  loan_data_numeric[:,2])\n",
    "loan_data_numeric[:,2]"
   ]
  },
  {
   "cell_type": "markdown",
   "id": "532114e0",
   "metadata": {},
   "source": [
    "#### Loaned Amount, Interest Rate, Total Payment, Installment"
   ]
  },
  {
   "cell_type": "code",
   "execution_count": 124,
   "id": "ab13974c",
   "metadata": {},
   "outputs": [],
   "source": [
    "#For these 4 variables, I will fill with the maximum temporary value rather than the minimum."
   ]
  },
  {
   "cell_type": "code",
   "execution_count": 125,
   "id": "cb7bc15a",
   "metadata": {},
   "outputs": [
    {
     "data": {
      "text/plain": [
       "array(['id', 'loan_amnt', 'funded_amnt', 'int_rate', 'installment', 'total_pymnt'], dtype='<U19')"
      ]
     },
     "execution_count": 125,
     "metadata": {},
     "output_type": "execute_result"
    }
   ],
   "source": [
    "header_numeric"
   ]
  },
  {
   "cell_type": "code",
   "execution_count": 126,
   "id": "260bcc97",
   "metadata": {},
   "outputs": [],
   "source": [
    "for i in [1,3,4,5]:\n",
    "    loan_data_numeric[:,i] = np.where(loan_data_numeric[:,i] == temporary_fill,\n",
    "                                      temporary_stats[2, columns_numeric[i]],\n",
    "                                      loan_data_numeric[:,i])"
   ]
  },
  {
   "cell_type": "code",
   "execution_count": 127,
   "id": "fd160674",
   "metadata": {},
   "outputs": [
    {
     "data": {
      "text/plain": [
       "array([[48010226.  ,    35000.  ,    35000.  ,       13.33,     1184.86,     9452.96],\n",
       "       [57693261.  ,    30000.  ,    30000.  ,       28.99,      938.57,     4679.7 ],\n",
       "       [59432726.  ,    15000.  ,    15000.  ,       28.99,      494.86,     1969.83],\n",
       "       ...,\n",
       "       [50415990.  ,    10000.  ,    10000.  ,       28.99,     1372.97,     2185.64],\n",
       "       [46154151.  ,    35000.  ,    10000.  ,       16.55,      354.3 ,     3199.4 ],\n",
       "       [66055249.  ,    10000.  ,    10000.  ,       28.99,      309.97,      301.9 ]])"
      ]
     },
     "execution_count": 127,
     "metadata": {},
     "output_type": "execute_result"
    }
   ],
   "source": [
    "loan_data_numeric"
   ]
  },
  {
   "cell_type": "markdown",
   "id": "b14d6c37",
   "metadata": {},
   "source": [
    "### Currency Change"
   ]
  },
  {
   "cell_type": "code",
   "execution_count": 128,
   "id": "def02f8f",
   "metadata": {},
   "outputs": [],
   "source": [
    "#As this company is supposedly based in a European country, I need to have the amounts in EUR and USD"
   ]
  },
  {
   "cell_type": "markdown",
   "id": "100b33e9",
   "metadata": {},
   "source": [
    "#### The Exchange Rate"
   ]
  },
  {
   "cell_type": "code",
   "execution_count": 129,
   "id": "c43a396b",
   "metadata": {},
   "outputs": [
    {
     "data": {
      "text/plain": [
       "array([[ nan,  nan,  nan,  nan,  nan],\n",
       "       [1.21, 1.21, 1.11, 1.13, 0.  ],\n",
       "       [1.13, 1.15, 1.12, 1.12, 0.  ],\n",
       "       [1.12, 1.12, 1.05, 1.08, 0.  ],\n",
       "       [1.07, 1.12, 1.05, 1.11, 0.  ],\n",
       "       [1.12, 1.15, 1.08, 1.1 , 0.  ],\n",
       "       [1.1 , 1.14, 1.09, 1.12, 0.  ],\n",
       "       [1.11, 1.12, 1.08, 1.09, 0.  ],\n",
       "       [1.1 , 1.17, 1.09, 1.13, 0.  ],\n",
       "       [1.12, 1.15, 1.11, 1.13, 0.  ],\n",
       "       [1.12, 1.15, 1.09, 1.1 , 0.  ],\n",
       "       [1.1 , 1.11, 1.06, 1.06, 0.  ],\n",
       "       [1.06, 1.11, 1.05, 1.09, 0.  ]])"
      ]
     },
     "execution_count": 129,
     "metadata": {},
     "output_type": "execute_result"
    }
   ],
   "source": [
    "EUR_USD = np.genfromtxt(\"EUR-USD.csv\", delimiter = ',', autostrip = True)\n",
    "EUR_USD\n",
    "\n",
    "#The nans at the top are probably the names of the columns"
   ]
  },
  {
   "cell_type": "code",
   "execution_count": 130,
   "id": "fd1070ca",
   "metadata": {},
   "outputs": [
    {
     "data": {
      "text/plain": [
       "array([['Open', 'High', 'Low', 'Close', 'Volume'],\n",
       "       ['1.2098628282546997', '1.2098628282546997', '1.11055588722229', '1.1287955045700073', '0'],\n",
       "       ['1.1287955045700073', '1.1484194993972778', '1.117680549621582', '1.1205360889434814',\n",
       "        '0'],\n",
       "       ['1.119795799255371', '1.1240400075912476', '1.0460032224655151', '1.0830246210098267',\n",
       "        '0'],\n",
       "       ['1.0741022825241089', '1.1247594356536865', '1.0521597862243652', '1.1114321947097778',\n",
       "        '0'],\n",
       "       ['1.1215037107467651', '1.145304799079895', '1.0821995735168457', '1.0960345268249512',\n",
       "        '0'],\n",
       "       ['1.095902442932129', '1.1428401470184326', '1.0888904333114624', '1.122296690940857', '0'],\n",
       "       ['1.1134989261627197', '1.1219995021820068', '1.081270456314087', '1.0939244031906128',\n",
       "        '0'],\n",
       "       ['1.0969001054763794', '1.1705996990203857', '1.0850305557250977', '1.1340054273605347',\n",
       "        '0'],\n",
       "       ['1.1225990056991577', '1.1460003852844238', '1.1089695692062378', '1.1255937814712524',\n",
       "        '0'],\n",
       "       ['1.1171561479568481', '1.1494200229644775', '1.0910003185272217', '1.100897192955017',\n",
       "        '0'],\n",
       "       ['1.1024993658065796', '1.1060001850128174', '1.056400179862976', '1.0583018064498901',\n",
       "        '0'],\n",
       "       ['1.0572947263717651', '1.107000470161438', '1.0541995763778687', '1.093398094177246', '0']],\n",
       "      dtype='<U18')"
      ]
     },
     "execution_count": 130,
     "metadata": {},
     "output_type": "execute_result"
    }
   ],
   "source": [
    "#Let's see what each of the columns represent by setting the data type to strings\n",
    "\n",
    "EUR_USD = np.genfromtxt(\"EUR-USD.csv\", delimiter = ',', autostrip = True, dtype = np.str_)\n",
    "EUR_USD\n",
    "\n",
    "#This shows open, high, low, close and volume.\n",
    "#The volume for each day reads 0 because we can't really buy or sell the exchange rate itself.\n",
    "#The close price is actually the adjusted closing price.\n",
    "#In analysis, it is prefered to use the adjusted closing prices."
   ]
  },
  {
   "cell_type": "code",
   "execution_count": 131,
   "id": "2f52f7b5",
   "metadata": {},
   "outputs": [
    {
     "data": {
      "text/plain": [
       "array([1.13, 1.12, 1.08, 1.11, 1.1 , 1.12, 1.09, 1.13, 1.13, 1.1 , 1.06, 1.09])"
      ]
     },
     "execution_count": 131,
     "metadata": {},
     "output_type": "execute_result"
    }
   ],
   "source": [
    "#Therefore, I'll use the 3rd column\n",
    "\n",
    "EUR_USD = np.genfromtxt(\"EUR-USD.csv\", delimiter = ',', autostrip = True, skip_header = 1, usecols = 3)\n",
    "EUR_USD"
   ]
  },
  {
   "cell_type": "code",
   "execution_count": 132,
   "id": "46d1c811",
   "metadata": {},
   "outputs": [
    {
     "data": {
      "text/plain": [
       "array([ 5,  0,  9, ...,  6,  4, 12])"
      ]
     },
     "execution_count": 132,
     "metadata": {},
     "output_type": "execute_result"
    }
   ],
   "source": [
    "loan_data_strings[:,0]"
   ]
  },
  {
   "cell_type": "code",
   "execution_count": 133,
   "id": "5952b7c6",
   "metadata": {},
   "outputs": [
    {
     "data": {
      "text/plain": [
       "array([1.1 , 1.11, 1.13, ..., 1.12, 1.11, 1.09])"
      ]
     },
     "execution_count": 133,
     "metadata": {},
     "output_type": "execute_result"
    }
   ],
   "source": [
    "exchange_rate = loan_data_strings[:,0]\n",
    "\n",
    "for i in range(1,13):\n",
    "    exchange_rate = np.where(exchange_rate == i,\n",
    "                             EUR_USD[i-1],\n",
    "                             exchange_rate)    \n",
    "\n",
    "exchange_rate = np.where(exchange_rate == 0,\n",
    "                         np.mean(EUR_USD),\n",
    "                         exchange_rate)\n",
    "\n",
    "exchange_rate"
   ]
  },
  {
   "cell_type": "code",
   "execution_count": 134,
   "id": "3f4eec41",
   "metadata": {},
   "outputs": [],
   "source": [
    "#Ater storing the exchange rate in an array, I will add it to the dataset.\n",
    "#But I first need to know if these two have same shape."
   ]
  },
  {
   "cell_type": "code",
   "execution_count": 135,
   "id": "e4ffa23c",
   "metadata": {},
   "outputs": [
    {
     "data": {
      "text/plain": [
       "(10000,)"
      ]
     },
     "execution_count": 135,
     "metadata": {},
     "output_type": "execute_result"
    }
   ],
   "source": [
    "exchange_rate.shape"
   ]
  },
  {
   "cell_type": "code",
   "execution_count": 136,
   "id": "df95e20d",
   "metadata": {},
   "outputs": [
    {
     "data": {
      "text/plain": [
       "(10000, 6)"
      ]
     },
     "execution_count": 136,
     "metadata": {},
     "output_type": "execute_result"
    }
   ],
   "source": [
    "loan_data_numeric.shape"
   ]
  },
  {
   "cell_type": "code",
   "execution_count": 137,
   "id": "094cf02c",
   "metadata": {},
   "outputs": [],
   "source": [
    "#Exchange rate is one-dimentional while loan is two-dimentional, so I'll reshape\n",
    "\n",
    "exchange_rate = np.reshape(exchange_rate, (10000,1))"
   ]
  },
  {
   "cell_type": "code",
   "execution_count": 138,
   "id": "86dac1a0",
   "metadata": {},
   "outputs": [],
   "source": [
    "#I'll then add this new array to the data as both are same dimension using the hstack function\n",
    "\n",
    "loan_data_numeric = np.hstack((loan_data_numeric, exchange_rate))"
   ]
  },
  {
   "cell_type": "code",
   "execution_count": 139,
   "id": "adc6b2c1",
   "metadata": {},
   "outputs": [
    {
     "data": {
      "text/plain": [
       "array(['id', 'loan_amnt', 'funded_amnt', 'int_rate', 'installment', 'total_pymnt', 'exchange_rate'],\n",
       "      dtype='<U19')"
      ]
     },
     "execution_count": 139,
     "metadata": {},
     "output_type": "execute_result"
    }
   ],
   "source": [
    "#Since I added a column to the array, I'll include it to the header\n",
    "\n",
    "header_numeric = np.concatenate((header_numeric, np.array(['exchange_rate'])))\n",
    "header_numeric"
   ]
  },
  {
   "cell_type": "markdown",
   "id": "43273bd3",
   "metadata": {},
   "source": [
    "#### From USD to EUR"
   ]
  },
  {
   "cell_type": "code",
   "execution_count": 140,
   "id": "0c7004ba",
   "metadata": {},
   "outputs": [
    {
     "data": {
      "text/plain": [
       "array(['id', 'loan_amnt', 'funded_amnt', 'int_rate', 'installment', 'total_pymnt', 'exchange_rate'],\n",
       "      dtype='<U19')"
      ]
     },
     "execution_count": 140,
     "metadata": {},
     "output_type": "execute_result"
    }
   ],
   "source": [
    "header_numeric"
   ]
  },
  {
   "cell_type": "code",
   "execution_count": 141,
   "id": "2154fc58",
   "metadata": {},
   "outputs": [],
   "source": [
    "#With exchange rate set, I'll manipulate the numbers\n",
    "#Four columns contain values in USD: loan_amnt, funded_amnt, installment and total_pymnt"
   ]
  },
  {
   "cell_type": "code",
   "execution_count": 142,
   "id": "183739dd",
   "metadata": {},
   "outputs": [],
   "source": [
    "columns_dollar = np.array([1,2,4,5])\n",
    "\n",
    "#This will help avoid working on each column individually"
   ]
  },
  {
   "cell_type": "code",
   "execution_count": 143,
   "id": "1d9f1aec",
   "metadata": {},
   "outputs": [
    {
     "data": {
      "text/plain": [
       "array([[[35000.  , 35000.  ,  1184.86,  9452.96]],\n",
       "\n",
       "       [[30000.  , 30000.  ,   938.57,  4679.7 ]],\n",
       "\n",
       "       [[15000.  , 15000.  ,   494.86,  1969.83]],\n",
       "\n",
       "       ...,\n",
       "\n",
       "       [[10000.  , 10000.  ,  1372.97,  2185.64]],\n",
       "\n",
       "       [[35000.  , 10000.  ,   354.3 ,  3199.4 ]],\n",
       "\n",
       "       [[10000.  , 10000.  ,   309.97,   301.9 ]]])"
      ]
     },
     "execution_count": 143,
     "metadata": {},
     "output_type": "execute_result"
    }
   ],
   "source": [
    "#Using indexing to obtain an array of only dollar columns\n",
    "\n",
    "loan_data_numeric[:,[columns_dollar]]"
   ]
  },
  {
   "cell_type": "code",
   "execution_count": 144,
   "id": "fea661ca",
   "metadata": {},
   "outputs": [
    {
     "data": {
      "text/plain": [
       "array([1.1 , 1.11, 1.13, ..., 1.12, 1.11, 1.09])"
      ]
     },
     "execution_count": 144,
     "metadata": {},
     "output_type": "execute_result"
    }
   ],
   "source": [
    "#Display the exchange rate column\n",
    "\n",
    "loan_data_numeric[:,6]"
   ]
  },
  {
   "cell_type": "code",
   "execution_count": 145,
   "id": "6e33b8b0",
   "metadata": {},
   "outputs": [],
   "source": [
    "#To add the EUR version, I'll use a loop to iterate the columns_dollar array\n",
    "#I'll use the horizontal stack function to create a new loan_data_numeric referencing only the columns_dollar values divided by the exchange rate\n",
    "#It's important to reshape the one dimentional array output from the exchange rate column into a 2D array set as 10000,1\n",
    "\n",
    "for i in columns_dollar:\n",
    "    loan_data_numeric = np.hstack((loan_data_numeric, np.reshape(loan_data_numeric[:,i] / loan_data_numeric[:,6], (10000,1))))"
   ]
  },
  {
   "cell_type": "code",
   "execution_count": 146,
   "id": "aa9c9000",
   "metadata": {},
   "outputs": [
    {
     "data": {
      "text/plain": [
       "(10000, 11)"
      ]
     },
     "execution_count": 146,
     "metadata": {},
     "output_type": "execute_result"
    }
   ],
   "source": [
    "loan_data_numeric.shape\n",
    "\n",
    "#Check how many columns the dataset contains now\n",
    "#There are more columns added to the dataset"
   ]
  },
  {
   "cell_type": "code",
   "execution_count": 147,
   "id": "918fb059",
   "metadata": {},
   "outputs": [
    {
     "data": {
      "text/plain": [
       "array([[48010226.  ,    35000.  ,    35000.  , ...,    31933.3 ,     1081.04,     8624.69],\n",
       "       [57693261.  ,    30000.  ,    30000.  , ...,    27132.46,      848.86,     4232.39],\n",
       "       [59432726.  ,    15000.  ,    15000.  , ...,    13326.3 ,      439.64,     1750.04],\n",
       "       ...,\n",
       "       [50415990.  ,    10000.  ,    10000.  , ...,     8910.3 ,     1223.36,     1947.47],\n",
       "       [46154151.  ,    35000.  ,    10000.  , ...,     8997.4 ,      318.78,     2878.63],\n",
       "       [66055249.  ,    10000.  ,    10000.  , ...,     9145.8 ,      283.49,      276.11]])"
      ]
     },
     "execution_count": 147,
     "metadata": {},
     "output_type": "execute_result"
    }
   ],
   "source": [
    "loan_data_numeric"
   ]
  },
  {
   "cell_type": "markdown",
   "id": "95281d74",
   "metadata": {},
   "source": [
    "#### Expanding the Header"
   ]
  },
  {
   "cell_type": "code",
   "execution_count": 148,
   "id": "8abbc7ed",
   "metadata": {},
   "outputs": [],
   "source": [
    "#Since more columns have been added to the dataset, the header needs to be updated\n",
    "#I'll create a variable to hold the EUR suffix using a loop for all new columns\n",
    "\n",
    "header_additional = np.array([column_name + '_EUR' for column_name in header_numeric[columns_dollar]])"
   ]
  },
  {
   "cell_type": "code",
   "execution_count": 149,
   "id": "9865aab7",
   "metadata": {},
   "outputs": [
    {
     "data": {
      "text/plain": [
       "array(['loan_amnt_EUR', 'funded_amnt_EUR', 'installment_EUR', 'total_pymnt_EUR'], dtype='<U15')"
      ]
     },
     "execution_count": 149,
     "metadata": {},
     "output_type": "execute_result"
    }
   ],
   "source": [
    "header_additional"
   ]
  },
  {
   "cell_type": "code",
   "execution_count": 150,
   "id": "05df983c",
   "metadata": {},
   "outputs": [],
   "source": [
    "#I'll add this new array to the header\n",
    "\n",
    "header_numeric = np.concatenate((header_numeric, header_additional))"
   ]
  },
  {
   "cell_type": "code",
   "execution_count": 151,
   "id": "b9d3c526",
   "metadata": {},
   "outputs": [
    {
     "data": {
      "text/plain": [
       "array(['id', 'loan_amnt', 'funded_amnt', 'int_rate', 'installment', 'total_pymnt', 'exchange_rate',\n",
       "       'loan_amnt_EUR', 'funded_amnt_EUR', 'installment_EUR', 'total_pymnt_EUR'], dtype='<U19')"
      ]
     },
     "execution_count": 151,
     "metadata": {},
     "output_type": "execute_result"
    }
   ],
   "source": [
    "header_numeric"
   ]
  },
  {
   "cell_type": "code",
   "execution_count": 152,
   "id": "296506a4",
   "metadata": {},
   "outputs": [],
   "source": [
    "#It's obvious the new columns are in EUR \n",
    "#But I need to show that the other default columns are in USD\n",
    "\n",
    "header_numeric[columns_dollar] = np.array([column_name + '_USD' for column_name in header_numeric[columns_dollar]])"
   ]
  },
  {
   "cell_type": "code",
   "execution_count": 153,
   "id": "184713d5",
   "metadata": {},
   "outputs": [
    {
     "data": {
      "text/plain": [
       "array(['id', 'loan_amnt_USD', 'funded_amnt_USD', 'int_rate', 'installment_USD', 'total_pymnt_USD',\n",
       "       'exchange_rate', 'loan_amnt_EUR', 'funded_amnt_EUR', 'installment_EUR', 'total_pymnt_EUR'],\n",
       "      dtype='<U19')"
      ]
     },
     "execution_count": 153,
     "metadata": {},
     "output_type": "execute_result"
    }
   ],
   "source": [
    "header_numeric"
   ]
  },
  {
   "cell_type": "code",
   "execution_count": 154,
   "id": "aa820e0f",
   "metadata": {},
   "outputs": [],
   "source": [
    "#Then I'll rearrange the columns so that each EUR column follows it's corresponding USD column\n",
    "\n",
    "columns_index_order = [0,1,7,2,8,3,4,9,5,10,6]"
   ]
  },
  {
   "cell_type": "code",
   "execution_count": 155,
   "id": "a736088f",
   "metadata": {},
   "outputs": [
    {
     "data": {
      "text/plain": [
       "array(['id', 'loan_amnt_USD', 'loan_amnt_EUR', 'funded_amnt_USD', 'funded_amnt_EUR', 'int_rate',\n",
       "       'installment_USD', 'installment_EUR', 'total_pymnt_USD', 'total_pymnt_EUR', 'exchange_rate'],\n",
       "      dtype='<U19')"
      ]
     },
     "execution_count": 155,
     "metadata": {},
     "output_type": "execute_result"
    }
   ],
   "source": [
    "header_numeric[columns_index_order]"
   ]
  },
  {
   "cell_type": "code",
   "execution_count": 156,
   "id": "c6aa31a1",
   "metadata": {},
   "outputs": [],
   "source": [
    "header_numeric = header_numeric[columns_index_order]"
   ]
  },
  {
   "cell_type": "code",
   "execution_count": 157,
   "id": "6cf76fcc",
   "metadata": {
    "scrolled": true
   },
   "outputs": [
    {
     "data": {
      "text/plain": [
       "array([[48010226.  ,    35000.  ,    35000.  , ...,    31933.3 ,     1081.04,     8624.69],\n",
       "       [57693261.  ,    30000.  ,    30000.  , ...,    27132.46,      848.86,     4232.39],\n",
       "       [59432726.  ,    15000.  ,    15000.  , ...,    13326.3 ,      439.64,     1750.04],\n",
       "       ...,\n",
       "       [50415990.  ,    10000.  ,    10000.  , ...,     8910.3 ,     1223.36,     1947.47],\n",
       "       [46154151.  ,    35000.  ,    10000.  , ...,     8997.4 ,      318.78,     2878.63],\n",
       "       [66055249.  ,    10000.  ,    10000.  , ...,     9145.8 ,      283.49,      276.11]])"
      ]
     },
     "execution_count": 157,
     "metadata": {},
     "output_type": "execute_result"
    }
   ],
   "source": [
    "loan_data_numeric"
   ]
  },
  {
   "cell_type": "code",
   "execution_count": 158,
   "id": "a37d3e8c",
   "metadata": {},
   "outputs": [],
   "source": [
    "#I'll do the same for the loan_data_numeric\n",
    "\n",
    "loan_data_numeric = loan_data_numeric[:,columns_index_order]"
   ]
  },
  {
   "cell_type": "markdown",
   "id": "ddb28ff6",
   "metadata": {},
   "source": [
    "So far, I have appropriately filled out any missing values, added exchange rates for each applicant (account) and created EUR versions of the 4 monetary values"
   ]
  },
  {
   "cell_type": "markdown",
   "id": "2ea79308",
   "metadata": {},
   "source": [
    "### Interest Rate"
   ]
  },
  {
   "cell_type": "code",
   "execution_count": 159,
   "id": "f4ebf49d",
   "metadata": {},
   "outputs": [],
   "source": [
    "#This is one column that hasn't been altered as by assumption it doesn't change based on the currency"
   ]
  },
  {
   "cell_type": "code",
   "execution_count": 160,
   "id": "d21ae997",
   "metadata": {},
   "outputs": [
    {
     "data": {
      "text/plain": [
       "array(['id', 'loan_amnt_USD', 'loan_amnt_EUR', 'funded_amnt_USD', 'funded_amnt_EUR', 'int_rate',\n",
       "       'installment_USD', 'installment_EUR', 'total_pymnt_USD', 'total_pymnt_EUR', 'exchange_rate'],\n",
       "      dtype='<U19')"
      ]
     },
     "execution_count": 160,
     "metadata": {},
     "output_type": "execute_result"
    }
   ],
   "source": [
    "header_numeric"
   ]
  },
  {
   "cell_type": "code",
   "execution_count": 161,
   "id": "e8ca39de",
   "metadata": {},
   "outputs": [
    {
     "data": {
      "text/plain": [
       "array([13.33, 28.99, 28.99, ..., 28.99, 16.55, 28.99])"
      ]
     },
     "execution_count": 161,
     "metadata": {},
     "output_type": "execute_result"
    }
   ],
   "source": [
    "#The interest rate column is on index 5\n",
    "\n",
    "loan_data_numeric[:,5]"
   ]
  },
  {
   "cell_type": "code",
   "execution_count": 162,
   "id": "c8d6901f",
   "metadata": {},
   "outputs": [],
   "source": [
    "#This is high and appears to show as percentages.\n",
    "#The convention is to show them within the range of 0 and 1 as this makes calculations like estimating interest payment much easier"
   ]
  },
  {
   "cell_type": "code",
   "execution_count": 163,
   "id": "0bde8f1f",
   "metadata": {},
   "outputs": [],
   "source": [
    "#Transforming the interest column\n",
    "\n",
    "loan_data_numeric[:,5] = loan_data_numeric[:,5]/100"
   ]
  },
  {
   "cell_type": "code",
   "execution_count": 164,
   "id": "045623a6",
   "metadata": {},
   "outputs": [
    {
     "data": {
      "text/plain": [
       "array([0.13, 0.29, 0.29, ..., 0.29, 0.17, 0.29])"
      ]
     },
     "execution_count": 164,
     "metadata": {},
     "output_type": "execute_result"
    }
   ],
   "source": [
    "loan_data_numeric[:,5]"
   ]
  },
  {
   "cell_type": "markdown",
   "id": "7dd2ec2c",
   "metadata": {},
   "source": [
    "### Checkpoint 2: Numeric"
   ]
  },
  {
   "cell_type": "markdown",
   "id": "5a6a8cb5",
   "metadata": {},
   "source": [
    "After all preprocessing for numeric values, let's create a checkpoint for the numeric values"
   ]
  },
  {
   "cell_type": "code",
   "execution_count": 165,
   "id": "813248aa",
   "metadata": {},
   "outputs": [],
   "source": [
    "#I'll call up the checkpoint function defined earlier and assign it's values to the checkpoint numeric values\n",
    "\n",
    "checkpoint_numeric = checkpoint(\"Checkpoint-Numeric\", header_numeric, loan_data_numeric)"
   ]
  },
  {
   "cell_type": "code",
   "execution_count": 166,
   "id": "370759c2",
   "metadata": {},
   "outputs": [
    {
     "data": {
      "text/plain": [
       "(array(['id', 'loan_amnt_USD', 'loan_amnt_EUR', 'funded_amnt_USD', 'funded_amnt_EUR', 'int_rate',\n",
       "        'installment_USD', 'installment_EUR', 'total_pymnt_USD', 'total_pymnt_EUR', 'exchange_rate'],\n",
       "       dtype='<U19'),\n",
       " array([[48010226.  ,    35000.  ,    31933.3 , ...,     9452.96,     8624.69,        1.1 ],\n",
       "        [57693261.  ,    30000.  ,    27132.46, ...,     4679.7 ,     4232.39,        1.11],\n",
       "        [59432726.  ,    15000.  ,    13326.3 , ...,     1969.83,     1750.04,        1.13],\n",
       "        ...,\n",
       "        [50415990.  ,    10000.  ,     8910.3 , ...,     2185.64,     1947.47,        1.12],\n",
       "        [46154151.  ,    35000.  ,    31490.9 , ...,     3199.4 ,     2878.63,        1.11],\n",
       "        [66055249.  ,    10000.  ,     9145.8 , ...,      301.9 ,      276.11,        1.09]]))"
      ]
     },
     "execution_count": 166,
     "metadata": {},
     "output_type": "execute_result"
    }
   ],
   "source": [
    "checkpoint_numeric['header'], checkpoint_numeric['data']"
   ]
  },
  {
   "cell_type": "markdown",
   "id": "8592e14e",
   "metadata": {},
   "source": [
    "## Creating the \"Complete\" Dataset"
   ]
  },
  {
   "cell_type": "code",
   "execution_count": 167,
   "id": "631518a6",
   "metadata": {},
   "outputs": [],
   "source": [
    "#finalizing the dataset\n",
    "#Stitching the two different arrays together as they are both numeric data now after preprocessing\n",
    "#But they must have compatible shapes"
   ]
  },
  {
   "cell_type": "code",
   "execution_count": 168,
   "id": "425dcfcb",
   "metadata": {},
   "outputs": [],
   "source": [
    "#I'll use the checkpoint data as this is safer"
   ]
  },
  {
   "cell_type": "code",
   "execution_count": 169,
   "id": "b5573031",
   "metadata": {},
   "outputs": [
    {
     "data": {
      "text/plain": [
       "(10000, 6)"
      ]
     },
     "execution_count": 169,
     "metadata": {},
     "output_type": "execute_result"
    }
   ],
   "source": [
    "checkpoint_strings['data'].shape"
   ]
  },
  {
   "cell_type": "code",
   "execution_count": 170,
   "id": "263dc7f8",
   "metadata": {},
   "outputs": [
    {
     "data": {
      "text/plain": [
       "(10000, 11)"
      ]
     },
     "execution_count": 170,
     "metadata": {},
     "output_type": "execute_result"
    }
   ],
   "source": [
    "checkpoint_numeric['data'].shape"
   ]
  },
  {
   "cell_type": "code",
   "execution_count": 172,
   "id": "f74b2bcc",
   "metadata": {},
   "outputs": [
    {
     "data": {
      "text/plain": [
       "array([[48010226.  ,    35000.  ,    31933.3 , ...,       13.  ,        1.  ,        1.  ],\n",
       "       [57693261.  ,    30000.  ,    27132.46, ...,        5.  ,        1.  ,        4.  ],\n",
       "       [59432726.  ,    15000.  ,    13326.3 , ...,       10.  ,        1.  ,        4.  ],\n",
       "       ...,\n",
       "       [50415990.  ,    10000.  ,     8910.3 , ...,        5.  ,        1.  ,        1.  ],\n",
       "       [46154151.  ,    35000.  ,    31490.9 , ...,       17.  ,        1.  ,        3.  ],\n",
       "       [66055249.  ,    10000.  ,     9145.8 , ...,        4.  ,        0.  ,        3.  ]])"
      ]
     },
     "execution_count": 172,
     "metadata": {},
     "output_type": "execute_result"
    }
   ],
   "source": [
    "#Seeing both arrays contain the same number of rows (10000), I'll stack them side by side\n",
    "\n",
    "np.hstack((checkpoint_numeric['data'], checkpoint_strings['data']))"
   ]
  },
  {
   "cell_type": "code",
   "execution_count": 173,
   "id": "e845c4a3",
   "metadata": {},
   "outputs": [
    {
     "data": {
      "text/plain": [
       "(10000, 17)"
      ]
     },
     "execution_count": 173,
     "metadata": {},
     "output_type": "execute_result"
    }
   ],
   "source": [
    "np.hstack((checkpoint_numeric['data'], checkpoint_strings['data'])).shape"
   ]
  },
  {
   "cell_type": "code",
   "execution_count": 174,
   "id": "1bdd401f",
   "metadata": {},
   "outputs": [],
   "source": [
    "#Storing the output in a new variable\n",
    "\n",
    "loan_data = np.hstack((checkpoint_numeric['data'], checkpoint_strings['data']))"
   ]
  },
  {
   "cell_type": "code",
   "execution_count": 175,
   "id": "cc80bfc1",
   "metadata": {},
   "outputs": [
    {
     "data": {
      "text/plain": [
       "array([[48010226.  ,    35000.  ,    31933.3 , ...,       13.  ,        1.  ,        1.  ],\n",
       "       [57693261.  ,    30000.  ,    27132.46, ...,        5.  ,        1.  ,        4.  ],\n",
       "       [59432726.  ,    15000.  ,    13326.3 , ...,       10.  ,        1.  ,        4.  ],\n",
       "       ...,\n",
       "       [50415990.  ,    10000.  ,     8910.3 , ...,        5.  ,        1.  ,        1.  ],\n",
       "       [46154151.  ,    35000.  ,    31490.9 , ...,       17.  ,        1.  ,        3.  ],\n",
       "       [66055249.  ,    10000.  ,     9145.8 , ...,        4.  ,        0.  ,        3.  ]])"
      ]
     },
     "execution_count": 175,
     "metadata": {},
     "output_type": "execute_result"
    }
   ],
   "source": [
    "loan_data"
   ]
  },
  {
   "cell_type": "code",
   "execution_count": 176,
   "id": "58ab4e6b",
   "metadata": {},
   "outputs": [
    {
     "data": {
      "text/plain": [
       "0"
      ]
     },
     "execution_count": 176,
     "metadata": {},
     "output_type": "execute_result"
    }
   ],
   "source": [
    "#Combining the isnan and sum function to determine if there are any missing values in the dataset\n",
    "\n",
    "np.isnan(loan_data).sum()"
   ]
  },
  {
   "cell_type": "code",
   "execution_count": 177,
   "id": "4bdc97f4",
   "metadata": {},
   "outputs": [
    {
     "data": {
      "text/plain": [
       "array(['id', 'loan_amnt_USD', 'loan_amnt_EUR', 'funded_amnt_USD', 'funded_amnt_EUR', 'int_rate',\n",
       "       'installment_USD', 'installment_EUR', 'total_pymnt_USD', 'total_pymnt_EUR', 'exchange_rate',\n",
       "       'issue_date', 'loan_status', 'term_months', 'sub_grade', 'verification_status',\n",
       "       'state_address'], dtype='<U19')"
      ]
     },
     "execution_count": 177,
     "metadata": {},
     "output_type": "execute_result"
    }
   ],
   "source": [
    "#Using concatenate to stitch the headers of the two checkpoints\n",
    "\n",
    "np.concatenate((checkpoint_numeric['header'], checkpoint_strings['header']))"
   ]
  },
  {
   "cell_type": "code",
   "execution_count": 178,
   "id": "6d7e23f8",
   "metadata": {},
   "outputs": [],
   "source": [
    "#Storing this in a new variable\n",
    "\n",
    "header_full = np.concatenate((checkpoint_numeric['header'], checkpoint_strings['header']))"
   ]
  },
  {
   "cell_type": "markdown",
   "id": "760cf5bd",
   "metadata": {},
   "source": [
    "## Sorting the New Dataset"
   ]
  },
  {
   "cell_type": "code",
   "execution_count": 179,
   "id": "703e7854",
   "metadata": {},
   "outputs": [],
   "source": [
    "#Rearranging the entire dataset according to the values in the first column (that is the ID)"
   ]
  },
  {
   "cell_type": "code",
   "execution_count": 180,
   "id": "40604894",
   "metadata": {},
   "outputs": [
    {
     "data": {
      "text/plain": [
       "array([48010226., 57693261., 59432726., ..., 50415990., 46154151., 66055249.])"
      ]
     },
     "execution_count": 180,
     "metadata": {},
     "output_type": "execute_result"
    }
   ],
   "source": [
    "loan_data[:,0]"
   ]
  },
  {
   "cell_type": "code",
   "execution_count": 181,
   "id": "31834090",
   "metadata": {},
   "outputs": [
    {
     "data": {
      "text/plain": [
       "array([  373332.,   575239.,   707689., ..., 68614880., 68615915., 68616519.])"
      ]
     },
     "execution_count": 181,
     "metadata": {},
     "output_type": "execute_result"
    }
   ],
   "source": [
    "#Using the sort function\n",
    "\n",
    "np.sort(loan_data[:,0])"
   ]
  },
  {
   "cell_type": "code",
   "execution_count": 182,
   "id": "0947f874",
   "metadata": {},
   "outputs": [
    {
     "data": {
      "text/plain": [
       "array([2086, 4812, 2353, ..., 4935, 9388, 8415], dtype=int64)"
      ]
     },
     "execution_count": 182,
     "metadata": {},
     "output_type": "execute_result"
    }
   ],
   "source": [
    "np.argsort(loan_data[:,0])\n",
    "\n",
    "#Showing the indices which sort the id column"
   ]
  },
  {
   "cell_type": "code",
   "execution_count": 183,
   "id": "2a8aa2f3",
   "metadata": {},
   "outputs": [
    {
     "data": {
      "text/plain": [
       "array([[  373332.  ,     9950.  ,     9038.08, ...,       21.  ,        0.  ,        1.  ],\n",
       "       [  575239.  ,    12000.  ,    10900.2 , ...,       25.  ,        1.  ,        2.  ],\n",
       "       [  707689.  ,    10000.  ,     8924.3 , ...,       13.  ,        1.  ,        0.  ],\n",
       "       ...,\n",
       "       [68614880.  ,     5600.  ,     5121.65, ...,        8.  ,        1.  ,        1.  ],\n",
       "       [68615915.  ,     4000.  ,     3658.32, ...,       10.  ,        1.  ,        2.  ],\n",
       "       [68616519.  ,    21600.  ,    19754.93, ...,        3.  ,        0.  ,        2.  ]])"
      ]
     },
     "execution_count": 183,
     "metadata": {},
     "output_type": "execute_result"
    }
   ],
   "source": [
    "loan_data[np.argsort(loan_data[:,0])]\n",
    "\n",
    "#Showing the sorted array"
   ]
  },
  {
   "cell_type": "code",
   "execution_count": 184,
   "id": "fe7f4277",
   "metadata": {},
   "outputs": [],
   "source": [
    "loan_data = loan_data[np.argsort(loan_data[:,0])]"
   ]
  },
  {
   "cell_type": "code",
   "execution_count": 185,
   "id": "12306bc8",
   "metadata": {},
   "outputs": [
    {
     "data": {
      "text/plain": [
       "array([[  373332.  ,     9950.  ,     9038.08, ...,       21.  ,        0.  ,        1.  ],\n",
       "       [  575239.  ,    12000.  ,    10900.2 , ...,       25.  ,        1.  ,        2.  ],\n",
       "       [  707689.  ,    10000.  ,     8924.3 , ...,       13.  ,        1.  ,        0.  ],\n",
       "       ...,\n",
       "       [68614880.  ,     5600.  ,     5121.65, ...,        8.  ,        1.  ,        1.  ],\n",
       "       [68615915.  ,     4000.  ,     3658.32, ...,       10.  ,        1.  ,        2.  ],\n",
       "       [68616519.  ,    21600.  ,    19754.93, ...,        3.  ,        0.  ,        2.  ]])"
      ]
     },
     "execution_count": 185,
     "metadata": {},
     "output_type": "execute_result"
    }
   ],
   "source": [
    "loan_data"
   ]
  },
  {
   "cell_type": "code",
   "execution_count": 186,
   "id": "74a3c6c0",
   "metadata": {},
   "outputs": [
    {
     "data": {
      "text/plain": [
       "array([   0,    1,    2, ..., 9997, 9998, 9999], dtype=int64)"
      ]
     },
     "execution_count": 186,
     "metadata": {},
     "output_type": "execute_result"
    }
   ],
   "source": [
    "#Using the argsort to confirm the sorting of the indices\n",
    "\n",
    "np.argsort(loan_data[:,0])"
   ]
  },
  {
   "cell_type": "markdown",
   "id": "3a0c4961",
   "metadata": {},
   "source": [
    "## Storing the Dataset"
   ]
  },
  {
   "cell_type": "code",
   "execution_count": 188,
   "id": "087677b1",
   "metadata": {},
   "outputs": [
    {
     "data": {
      "text/plain": [
       "array([['id', 'loan_amnt_USD', 'loan_amnt_EUR', ..., 'sub_grade', 'verification_status',\n",
       "        'state_address'],\n",
       "       ['id', 'loan_amnt_USD', 'loan_amnt_EUR', ..., 'sub_grade', 'verification_status',\n",
       "        'state_address'],\n",
       "       ['373332.0', '9950.0', '9038.082814338286', ..., '21.0', '0.0', '1.0'],\n",
       "       ...,\n",
       "       ['68614880.0', '5600.0', '5121.647851612413', ..., '8.0', '1.0', '1.0'],\n",
       "       ['68615915.0', '4000.0', '3658.319894008867', ..., '10.0', '1.0', '2.0'],\n",
       "       ['68616519.0', '21600.0', '19754.927427647883', ..., '3.0', '0.0', '2.0']], dtype='<U32')"
      ]
     },
     "execution_count": 188,
     "metadata": {},
     "output_type": "execute_result"
    }
   ],
   "source": [
    "#After sorting, I'll then stack the header ontop of it using vertical stack\n",
    "\n",
    "np.vstack((header_full, loan_data))"
   ]
  },
  {
   "cell_type": "code",
   "execution_count": 189,
   "id": "f982e567",
   "metadata": {},
   "outputs": [],
   "source": [
    "#The stack automatically converted all the numbers to text again\n",
    "#This is because the stack requires a unified datatype across all rows and columns\n",
    "#By default, the function selects the smallest datatype which can hold any of the elements within the array\n",
    "#In this case, that happens to be a unicode value of up to 32 elements (U32)\n",
    "#It is appropriate for the information currently in the loan data variable"
   ]
  },
  {
   "cell_type": "code",
   "execution_count": 190,
   "id": "901382f9",
   "metadata": {},
   "outputs": [],
   "source": [
    "#Storing the values\n",
    "\n",
    "loan_data = np.vstack((header_full, loan_data))"
   ]
  },
  {
   "cell_type": "code",
   "execution_count": 191,
   "id": "094db9b1",
   "metadata": {},
   "outputs": [],
   "source": [
    "#Lastly, saving the cleaned dataset\n",
    "\n",
    "np.savetxt(\"loan-data-preprocessed.csv\", \n",
    "           loan_data, \n",
    "           fmt = '%s',\n",
    "           delimiter = ',')"
   ]
  },
  {
   "cell_type": "markdown",
   "id": "b05ce9e4",
   "metadata": {},
   "source": [
    "The dataset has successfully been cleaned, preprocessed and prepared for further analysis.\n",
    "\n",
    "This dataset can now be used by the data science team to create a credit risk model (CRM) for estimating probability of default"
   ]
  }
 ],
 "metadata": {
  "kernelspec": {
   "display_name": "Python 3 (ipykernel)",
   "language": "python",
   "name": "python3"
  },
  "language_info": {
   "codemirror_mode": {
    "name": "ipython",
    "version": 3
   },
   "file_extension": ".py",
   "mimetype": "text/x-python",
   "name": "python",
   "nbconvert_exporter": "python",
   "pygments_lexer": "ipython3",
   "version": "3.9.16"
  }
 },
 "nbformat": 4,
 "nbformat_minor": 5
}
